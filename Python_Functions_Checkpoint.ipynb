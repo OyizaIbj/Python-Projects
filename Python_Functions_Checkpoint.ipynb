{
 "cells": [
  {
   "cell_type": "markdown",
   "id": "f6226b4a-52cb-4de9-8e6b-479664cc41e2",
   "metadata": {},
   "source": [
    "## Calculator Program"
   ]
  },
  {
   "cell_type": "markdown",
   "id": "49d44a6c-074c-4841-9b33-3cc1fdd9ebeb",
   "metadata": {},
   "source": [
    "I am to create a calculator program that allows the user to perform mathematical operations on two numbers using basic functions and a dictionary to store the operations.\n",
    "\n",
    "The program is to also have the ability to continue calculations with the result of previous calculations."
   ]
  },
  {
   "cell_type": "code",
   "execution_count": null,
   "id": "f660567c-92fe-4067-9cd7-941861d62538",
   "metadata": {},
   "outputs": [
    {
     "name": "stdout",
     "output_type": "stream",
     "text": [
      "Welcome to the Python Calculator!\n"
     ]
    },
    {
     "name": "stdin",
     "output_type": "stream",
     "text": [
      "Enter the first number:  6\n"
     ]
    },
    {
     "name": "stdout",
     "output_type": "stream",
     "text": [
      "\n",
      "Available operations:\n",
      "+\n",
      "-\n",
      "*\n",
      "/\n"
     ]
    },
    {
     "name": "stdin",
     "output_type": "stream",
     "text": [
      "Pick an operation to be performed from the list above:  *\n",
      "Enter the next number:  2.4\n"
     ]
    },
    {
     "name": "stdout",
     "output_type": "stream",
     "text": [
      "\n",
      "6.0 * 2.4 = 14.399999999999999\n"
     ]
    },
    {
     "name": "stdin",
     "output_type": "stream",
     "text": [
      "Type 'Y' to continue with 14.399999999999999, or 'N' to start a new calculation:  Y\n",
      "Pick an operation to be performed from the list above:  +\n",
      "Enter the next number:  3\n"
     ]
    },
    {
     "name": "stdout",
     "output_type": "stream",
     "text": [
      "\n",
      "14.399999999999999 + 3.0 = 17.4\n"
     ]
    },
    {
     "name": "stdin",
     "output_type": "stream",
     "text": [
      "Type 'Y' to continue with 17.4, or 'N' to start a new calculation:  N\n"
     ]
    },
    {
     "name": "stdout",
     "output_type": "stream",
     "text": [
      "Welcome to the Python Calculator!\n"
     ]
    }
   ],
   "source": [
    "#Creating basic mathematical functions\n",
    "def add(a, b):\n",
    "    return a + b\n",
    "\n",
    "def subtract(a, b):\n",
    "    return a - b\n",
    "\n",
    "def multiply(a, b):\n",
    "    return a * b\n",
    "\n",
    "def divide(a, b):\n",
    "    if b == 0:\n",
    "        return \"Error: Division by zero is not allowed.\"\n",
    "    return a / b\n",
    "\n",
    "#Creating dictionary to assign operations to their symbols\n",
    "operations = {\n",
    "    \"+\": add,\n",
    "    \"-\": subtract,\n",
    "    \"*\": multiply,\n",
    "    \"/\": divide\n",
    "}\n",
    "\n",
    "#Calculator function that prompts user for the first number\n",
    "def calculator():\n",
    "    print(\"Welcome to the Python Calculator!\")\n",
    "    numb1 = float(input(\"Enter the first number: \"))\n",
    "\n",
    "    #To display the available operations\n",
    "    print(\"\\nAvailable operations:\")\n",
    "    for symbol in operations:\n",
    "        print(symbol)\n",
    "        \n",
    "    #To continue to run until user end\n",
    "    should_continue = True\n",
    "    while should_continue:\n",
    "        operation_symbol = input(\"Pick an operation to be performed from the list above: \").strip()   #To prompt user to select an operation\n",
    "        if operation_symbol not in operations:\n",
    "            print(\"Invalid operation. Please select a valid symbol.\")\n",
    "            continue\n",
    "\n",
    "        #To prompt user for the second number\n",
    "        numb2 = float(input(\"Enter the second number: \"))   \n",
    "\n",
    "        #To retrieve and execute the selected operation symbol\n",
    "        calculation_function = operations[operation_symbol]\n",
    "        answer = calculation_function(numb1, numb2)\n",
    "\n",
    "        #To print the equation and result\n",
    "        print(f\"\\n{numb1} {operation_symbol} {numb2} = {answer}\")\n",
    "\n",
    "        #To ask the user if they want to continue or start a new calculation\n",
    "        next_step = input(f\"Type 'Y' to continue with {answer}, or 'N' to start a new calculation: \").strip().upper()\n",
    "        \n",
    "        if next_step == \"Y\":\n",
    "            numb1 = answer  #To continue with the previous result\n",
    "        else:\n",
    "            should_continue = False\n",
    "            calculator()  #To restart the calculator\n",
    "\n",
    "# Start the calculator\n",
    "calculator()"
   ]
  }
 ],
 "metadata": {
  "kernelspec": {
   "display_name": "Python [conda env:base] *",
   "language": "python",
   "name": "conda-base-py"
  },
  "language_info": {
   "codemirror_mode": {
    "name": "ipython",
    "version": 3
   },
   "file_extension": ".py",
   "mimetype": "text/x-python",
   "name": "python",
   "nbconvert_exporter": "python",
   "pygments_lexer": "ipython3",
   "version": "3.12.3"
  }
 },
 "nbformat": 4,
 "nbformat_minor": 5
}
