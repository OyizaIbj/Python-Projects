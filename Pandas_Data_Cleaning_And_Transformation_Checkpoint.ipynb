{
  "nbformat": 4,
  "nbformat_minor": 0,
  "metadata": {
    "colab": {
      "provenance": []
    },
    "kernelspec": {
      "name": "python3",
      "display_name": "Python 3"
    },
    "language_info": {
      "name": "python"
    }
  },
  "cells": [
    {
      "cell_type": "code",
      "execution_count": null,
      "metadata": {
        "colab": {
          "base_uri": "https://localhost:8080/"
        },
        "id": "mEOddmCEQ6kS",
        "outputId": "8626cc4b-431f-4f5b-8a1e-c655d0738f6c"
      },
      "outputs": [
        {
          "output_type": "stream",
          "name": "stdout",
          "text": [
            "First 3 Rows:\n",
            "    Name Department  Age  Gender  Salary  Experience\n",
            "0  John         IT   30    Male   50000           3\n",
            "1  Mary  Marketing   40  Female   60000           7\n",
            "2   Bob      Sales   25    Male   45000           2\n",
            "\n",
            "Marketing Employees:\n",
            "    Name Department  Age  Gender  Salary  Experience\n",
            "1  Mary  Marketing   40  Female   60000           7\n",
            "5  Lisa  Marketing   28  Female   55000           4\n",
            "\n",
            "Age and Gender (First 4 Rows):\n",
            "    Age  Gender\n",
            "0   30    Male\n",
            "1   40  Female\n",
            "2   25    Male\n",
            "3   35  Female\n",
            "\n",
            "Salary and Experience of Male Employees:\n",
            "    Salary  Experience\n",
            "0   50000           3\n",
            "2   45000           2\n",
            "4   70000          10\n"
          ]
        }
      ],
      "source": [
        "import pandas as pd\n",
        "\n",
        "# Creating the employee DataFrame\n",
        "data = {\n",
        "    'Name': ['John', 'Mary', 'Bob', 'Sarah', 'Tom', 'Lisa'],\n",
        "    'Department': ['IT', 'Marketing', 'Sales', 'IT', 'Finance', 'Marketing'],\n",
        "    'Age': [30, 40, 25, 35, 45, 28],\n",
        "    'Gender': ['Male', 'Female', 'Male', 'Female', 'Male', 'Female'],\n",
        "    'Salary': [50000, 60000, 45000, 55000, 70000, 55000],\n",
        "    'Experience': [3, 7, 2, 5, 10, 4]\n",
        "}\n",
        "\n",
        "employee_df = pd.DataFrame(data)\n",
        "\n",
        "# Selecting the first 3 rows using iloc\n",
        "first_three_rows = employee_df.iloc[:3]\n",
        "print(\"First 3 Rows:\\n\", first_three_rows)\n",
        "\n",
        "# Selecting all rows where the Department is \"Marketing\" using loc\n",
        "marketing_employees = employee_df.loc[employee_df['Department'] == 'Marketing']\n",
        "print(\"\\nMarketing Employees:\\n\", marketing_employees)\n",
        "\n",
        "# Selecting Age and Gender columns for the first 4 rows using iloc\n",
        "age_and_gender = employee_df.iloc[:4, [2, 3]]\n",
        "print(\"\\nAge and Gender (First 4 Rows):\\n\", age_and_gender)\n",
        "\n",
        "# Selecting Salary and Experience columns where Gender is \"Male\" using loc\n",
        "male_salary_experience = employee_df.loc[employee_df['Gender'] == 'Male', ['Salary', 'Experience']]\n",
        "print(\"\\nSalary and Experience of Male Employees:\\n\", male_salary_experience)"
      ]
    }
  ]
}