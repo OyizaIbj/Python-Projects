{
  "nbformat": 4,
  "nbformat_minor": 0,
  "metadata": {
    "colab": {
      "provenance": []
    },
    "kernelspec": {
      "name": "python3",
      "display_name": "Python 3"
    },
    "language_info": {
      "name": "python"
    }
  },
  "cells": [
    {
      "cell_type": "markdown",
      "source": [
        "**Instructions**\n",
        "\n",
        "1. Create a class called \"Calculator\" that contains the following:\n",
        "- A dictionary attribute to store the available mathematical operations and their corresponding functions\n",
        "- A method called \"init\" that initializes the dictionary with the basic mathematical operations (+, -, *, /) and corresponding functions\n",
        "- A method called \"add_operation\" that takes in two arguments: the operation symbol and the corresponding function. This method should add the new operation and function to the dictionary.\n",
        "- A method called \"calculate\" that takes in three arguments: the first number, the operation symbol, and the second number. This method should use the dictionary to determine the appropriate function to perform the calculation. It should also include error handling to check if the operation symbol is valid and if the input values are numbers. If an error is encountered, the method should print an error message and raise an exception.\n",
        "\n",
        "\n",
        "2. Create separate functions for the advanced mathematical operations (exponentiation, square root, logarithm) and use the \"add_operation\" method to add them to the calculator's dictionary.\n",
        "\n",
        "\n",
        "3. In the main program, create an instance of the Calculator class, and use a while loop that allows the user to continue performing calculations until they choose to exit.\n",
        "\n",
        "4. Use the input() function to get input from the user for the numbers and operation symbol. Use the math library for advanced mathematical operations\n",
        "\n",
        "5. Use the isinstance() function to check if the input is a number."
      ],
      "metadata": {
        "id": "6e9vCQa0jtUh"
      }
    },
    {
      "cell_type": "code",
      "execution_count": null,
      "metadata": {
        "colab": {
          "base_uri": "https://localhost:8080/"
        },
        "id": "Gb2WA7HD5yXv",
        "outputId": "5d36037b-6106-4479-ee19-567c5f287aae"
      },
      "outputs": [
        {
          "name": "stdout",
          "output_type": "stream",
          "text": [
            "\n",
            "Available operations:  + - * / ^ sqrt log\n",
            "Enter first number (or 'exit' to quit): 23\n",
            "Enter operation symbol: /\n",
            "Enter second number: 4\n",
            "Result: 5.75\n",
            "\n",
            "Available operations:  + - * / ^ sqrt log\n",
            "Enter first number (or 'exit' to quit): d\n",
            "Enter operation symbol: *\n",
            "Enter second number: 5\n",
            "Error: could not convert string to float: 'd'\n",
            "\n",
            "Available operations:  + - * / ^ sqrt log\n",
            "Enter first number (or 'exit' to quit): 9\n",
            "Enter operation symbol: log\n",
            "Result: 2.1972245773362196\n",
            "\n",
            "Available operations:  + - * / ^ sqrt log\n",
            "Enter first number (or 'exit' to quit): exit\n"
          ]
        }
      ],
      "source": [
        "class Calculator:\n",
        "    def __init__(self):\n",
        "        \"\"\"Initialize the calculator with basic operations.\"\"\"\n",
        "        self.operations = {\n",
        "            '+': self.add,\n",
        "            '-': self.subtract,\n",
        "            '*': self.multiply,\n",
        "            '/': self.divide\n",
        "        }\n",
        "\n",
        "    def add(self, x, y):\n",
        "        return x + y\n",
        "\n",
        "    def subtract(self, x, y):\n",
        "        return x - y\n",
        "\n",
        "    def multiply(self, x, y):\n",
        "        return x * y\n",
        "\n",
        "    def divide(self, x, y):\n",
        "        return x / y if y != 0 else float('inf')  # To handle division by 0\n",
        "\n",
        "    def add_operation(self, symbol, function):\n",
        "        \"\"\"Add a new operation to the calculator.\"\"\"\n",
        "        self.operations[symbol] = function\n",
        "\n",
        "    def calculate(self, numb1, operation, numb2):\n",
        "        \"\"\"Perform the calculation using the stored symbols and operations.\"\"\"\n",
        "        if not (isinstance(numb1, (int, float)) and isinstance(numb2, (int, float))):  # To check if input values are numbers\n",
        "            raise ValueError(\"Both inputs must be numbers.\")\n",
        "        if operation not in self.operations:   # To check if operation symbol is valid\n",
        "            raise ValueError(\"Invalid operation symbol.\")\n",
        "        return self.operations[operation](numb1, numb2)\n",
        "\n",
        "# Advanced mathematical functions\n",
        "import math\n",
        "def exponentiation(x, y):\n",
        "    return x ** y\n",
        "\n",
        "def square_root(x, _):\n",
        "    return math.sqrt(x)\n",
        "\n",
        "def logarithm(x, _):\n",
        "    return math.log(x)\n",
        "\n",
        "# Adding the advanced mathematical operations to the main Calculator program\n",
        "if __name__ == \"__main__\":\n",
        "    calculator = Calculator()\n",
        "    calculator.add_operation('^', exponentiation)\n",
        "    calculator.add_operation('sqrt', square_root)\n",
        "    calculator.add_operation('log', logarithm)\n",
        "\n",
        "# To allow user continue performing calculations until they exit\n",
        "    while True:\n",
        "        print(\"\\nAvailable operations: \", ' '.join(calculator.operations.keys()))\n",
        "        numb1 = input(\"Enter first number (or 'exit' to quit): \")\n",
        "        if numb1.lower() == 'exit':\n",
        "            break\n",
        "        operation = input(\"Enter operation symbol: \")\n",
        "\n",
        "        if operation == 'sqrt' or operation == 'log':\n",
        "            numb2 = 0  # Since these operations require only one argument\n",
        "        else:\n",
        "            numb2 = input(\"Enter second number: \")\n",
        "\n",
        "        try:\n",
        "            numb1 = float(numb1)\n",
        "            numb2 = float(numb2)\n",
        "            result = calculator.calculate(numb1, operation, numb2)\n",
        "            print(f\"Result: {result}\")\n",
        "        except Exception as e:\n",
        "            print(f\"Error: {e}\")"
      ]
    }
  ]
}