{
 "cells": [
  {
   "cell_type": "markdown",
   "id": "1cea471f-d1b4-4a8f-ae83-aefa8808c120",
   "metadata": {},
   "source": [
    "## Shopping List Manager"
   ]
  },
  {
   "cell_type": "markdown",
   "id": "f771f142-ae7c-4887-8236-8a4ddaaa6c78",
   "metadata": {},
   "source": [
    "The objective is to create a program that allows users to manage their shopping list.\n",
    "\n",
    "Users should be able to add items to the list, remove items, and view the current list of items."
   ]
  },
  {
   "cell_type": "code",
   "execution_count": 2,
   "id": "f53bed0c-59a6-49c1-aed7-eb0fe5849780",
   "metadata": {},
   "outputs": [
    {
     "name": "stdout",
     "output_type": "stream",
     "text": [
      "\n",
      "Shopping List Manager\n",
      "1. Add item\n",
      "2. Remove item\n",
      "3. View list\n",
      "4. View categories\n",
      "5. Exit\n"
     ]
    },
    {
     "name": "stdin",
     "output_type": "stream",
     "text": [
      "Enter your choice (1-5):  4\n"
     ]
    },
    {
     "name": "stdout",
     "output_type": "stream",
     "text": [
      "\n",
      "Available Shopping Categories:\n",
      "Fruits: Apple, Strawberry, Banana, Watermelon, Orange, Grapes\n",
      "Vegetables: Carrot, Lettuce, Cucumber, Broccoli, Spring onions, Pepper\n",
      "Dairy: Milk, Butter, Cheese, Yogurt\n",
      "Beverages: Soda, Wine, Water, Juice\n",
      "\n",
      "Shopping List Manager\n",
      "1. Add item\n",
      "2. Remove item\n",
      "3. View list\n",
      "4. View categories\n",
      "5. Exit\n"
     ]
    },
    {
     "name": "stdin",
     "output_type": "stream",
     "text": [
      "Enter your choice (1-5):  1\n",
      "Enter item to add:  Carrot\n"
     ]
    },
    {
     "name": "stdout",
     "output_type": "stream",
     "text": [
      "Carrot added to shopping list.\n",
      "\n",
      "Shopping List Manager\n",
      "1. Add item\n",
      "2. Remove item\n",
      "3. View list\n",
      "4. View categories\n",
      "5. Exit\n"
     ]
    },
    {
     "name": "stdin",
     "output_type": "stream",
     "text": [
      "Enter your choice (1-5):  1\n",
      "Enter item to add:  Wine\n"
     ]
    },
    {
     "name": "stdout",
     "output_type": "stream",
     "text": [
      "Wine added to shopping list.\n",
      "\n",
      "Shopping List Manager\n",
      "1. Add item\n",
      "2. Remove item\n",
      "3. View list\n",
      "4. View categories\n",
      "5. Exit\n"
     ]
    },
    {
     "name": "stdin",
     "output_type": "stream",
     "text": [
      "Enter your choice (1-5):  1\n",
      "Enter item to add:  Grapes\n"
     ]
    },
    {
     "name": "stdout",
     "output_type": "stream",
     "text": [
      "Grapes added to shopping list.\n",
      "\n",
      "Shopping List Manager\n",
      "1. Add item\n",
      "2. Remove item\n",
      "3. View list\n",
      "4. View categories\n",
      "5. Exit\n"
     ]
    },
    {
     "name": "stdin",
     "output_type": "stream",
     "text": [
      "Enter your choice (1-5):  3\n"
     ]
    },
    {
     "name": "stdout",
     "output_type": "stream",
     "text": [
      "\n",
      "Your Shopping List:\n",
      "1. Carrot\n",
      "2. Wine\n",
      "3. Grapes\n",
      "\n",
      "Shopping List Manager\n",
      "1. Add item\n",
      "2. Remove item\n",
      "3. View list\n",
      "4. View categories\n",
      "5. Exit\n"
     ]
    },
    {
     "name": "stdin",
     "output_type": "stream",
     "text": [
      "Enter your choice (1-5):  2\n",
      "Enter item to remove:  Carrot\n"
     ]
    },
    {
     "name": "stdout",
     "output_type": "stream",
     "text": [
      "Carrot is removed from shopping list.\n",
      "\n",
      "Shopping List Manager\n",
      "1. Add item\n",
      "2. Remove item\n",
      "3. View list\n",
      "4. View categories\n",
      "5. Exit\n"
     ]
    },
    {
     "name": "stdin",
     "output_type": "stream",
     "text": [
      "Enter your choice (1-5):  5\n"
     ]
    },
    {
     "name": "stdout",
     "output_type": "stream",
     "text": [
      "Exiting Shopping List Manager... \n",
      "Have a great day!\n"
     ]
    }
   ],
   "source": [
    "# Initialize shopping list with a limit of 10 items\n",
    "shopping_list = []\n",
    "shopping_limit = 10\n",
    "\n",
    "# Dictionary to store categories of shopping items\n",
    "shopping_categories = {\n",
    "    \"Fruits\": (\"Apple\", \"Strawberry\", \"Banana\", \"Watermelon\", \"Orange\", \"Grapes\"),\n",
    "    \"Vegetables\": (\"Carrot\", \"Lettuce\", \"Cucumber\", \"Broccoli\", \"Spring onions\", \"Pepper\"),\n",
    "    \"Dairy\": (\"Milk\", \"Butter\", \"Cheese\", \"Yogurt\"),\n",
    "    \"Beverages\": {\"Water\", \"Juice\", \"Wine\", \"Soda\"},\n",
    "}\n",
    "\n",
    "def display_menu():\n",
    "    \"\"\"Display menu options for the user.\"\"\"\n",
    "    print(\"\\nShopping List Manager\")\n",
    "    print(\"1. Add item\")\n",
    "    print(\"2. Remove item\")\n",
    "    print(\"3. View list\")\n",
    "    print(\"4. View categories\")\n",
    "    print(\"5. Exit\")\n",
    "\n",
    "while True:\n",
    "    display_menu()\n",
    "    choice = input(\"Enter your choice (1-5): \").strip()\n",
    "\n",
    "    if choice == \"1\":  # If user selects \"Add item\"\n",
    "        if len(shopping_list) >= shopping_limit:\n",
    "            print(\"Shopping list is full! Cannot add more items.\")\n",
    "        else:\n",
    "            item = input(\"Enter item to add: \").strip().title()\n",
    "            shopping_list.append(item)\n",
    "            print(f\"{item} added to shopping list.\")\n",
    "\n",
    "    elif choice == \"2\":  # If user selects \"Remove item\"\n",
    "        if not shopping_list:\n",
    "            print(\"Shopping list is empty!\")\n",
    "        else:\n",
    "            item = input(\"Enter item to remove: \").strip().title()\n",
    "            if item in shopping_list:\n",
    "                shopping_list.remove(item)\n",
    "                print(f\"{item} is removed from shopping list.\")\n",
    "            else:\n",
    "                print(f\"{item} is not in the shopping list.\")\n",
    "\n",
    "    elif choice == \"3\":  # If user selects \"View list\"\n",
    "        if not shopping_list:\n",
    "            print(\"Shopping list is empty!\")\n",
    "        else:\n",
    "            print(\"\\nYour Shopping List:\")\n",
    "            for index in range(len(shopping_list)):\n",
    "                print(f\"{index + 1}. {shopping_list[index]}\")\n",
    "\n",
    "    elif choice == \"4\":  # If user selects \"View categories\"\n",
    "        print(\"\\nAvailable Shopping Categories:\")\n",
    "        for category, items in shopping_categories.items():\n",
    "            print(f\"{category}: {', '.join(items)}\")\n",
    "\n",
    "    elif choice == \"5\":  # If user selects \"Exit\"\n",
    "        print(\"Exiting Shopping List Manager... \\nHave a great day!\")\n",
    "        break\n",
    "\n",
    "    else:\n",
    "        print(\"Invalid choice! Please enter a number between 1 and 5.\")"
   ]
  }
 ],
 "metadata": {
  "kernelspec": {
   "display_name": "Python [conda env:base] *",
   "language": "python",
   "name": "conda-base-py"
  },
  "language_info": {
   "codemirror_mode": {
    "name": "ipython",
    "version": 3
   },
   "file_extension": ".py",
   "mimetype": "text/x-python",
   "name": "python",
   "nbconvert_exporter": "python",
   "pygments_lexer": "ipython3",
   "version": "3.12.3"
  }
 },
 "nbformat": 4,
 "nbformat_minor": 5
}
