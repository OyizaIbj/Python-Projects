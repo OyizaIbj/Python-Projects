{
 "cells": [
  {
   "cell_type": "markdown",
   "metadata": {
    "id": "jQBezUUA7D1f"
   },
   "source": [
    "**Instruction:**\n",
    "\n",
    "Extract, clean, and analyze product data from an online retailer's platform to identify pricing trends, product availability, and promotional patterns across various categories."
   ]
  },
  {
   "cell_type": "code",
   "execution_count": 1,
   "metadata": {
    "id": "6X47E2okVCLA"
   },
   "outputs": [],
   "source": [
    "# To silence warnings for a cleaner output\n",
    "\n",
    "import warnings\n",
    "warnings.filterwarnings(\"ignore\")"
   ]
  },
  {
   "cell_type": "code",
   "execution_count": 2,
   "metadata": {
    "id": "xdvlt5nbRnGn"
   },
   "outputs": [],
   "source": [
    "# Importing the necessary libraries\n",
    "\n",
    "import requests\n",
    "from bs4 import BeautifulSoup\n",
    "import pandas as pd\n",
    "import re\n",
    "import plotly.express as px\n",
    "import plotly.graph_objects as go"
   ]
  },
  {
   "cell_type": "code",
   "execution_count": 3,
   "metadata": {
    "id": "z-yY5WsYmGEz"
   },
   "outputs": [],
   "source": [
    "# Web Scraping\n",
    "\n",
    "url = \"https://aziza.tn/fr/home\"\n",
    "\n",
    "def scrape_product_data(url):\n",
    "    headers = {'User-Agent': 'Mozilla/5.0'}\n",
    "    page = requests.get(url, headers=headers)\n",
    "\n",
    "    if page.status_code != 200:\n",
    "        print(\"Failed to retrieve the website\")\n",
    "        return []\n",
    "\n",
    "    soup = BeautifulSoup(page.content, 'html.parser')\n",
    "    data = []\n",
    "\n",
    "    for product in soup.find_all('li', class_='product-item'):\n",
    "\n",
    "        # Extract product name\n",
    "        name_tag = product.find('a', class_='product-item-link')\n",
    "        name = name_tag.text.strip() if name_tag else 'Unknown'    # Missing \"name_tag\" will be scraped as \"Unknown\"\n",
    "\n",
    "        # Extract category\n",
    "        category_tag = product.find('span', class_='brand')\n",
    "        category = category_tag.text.strip() if category_tag else 'General'    # Missing \"category_tag\" will be scraped as \"General\"\n",
    "\n",
    "        # Extract product price\n",
    "        price_tag = product.find('span', class_='price')\n",
    "        price = price_tag.text.strip() if price_tag else '0'    # Missing \"price_tag\" will be scraped as \"0\"\n",
    "\n",
    "        # Extract availability status (assuming it's in the 'tocart' button)\n",
    "        availability_tag = product.find('button', class_='tocart')\n",
    "        if availability_tag:\n",
    "            button_text = availability_tag.text.strip().lower()\n",
    "            if 'ajouter' in button_text:\n",
    "                availability = 'Available'\n",
    "            else:\n",
    "                availability = 'Unavailable'\n",
    "        else:\n",
    "            availability = 'Unknown'   # Missing \"availability_tag\" will be scraped as \"Unknown\"\n",
    "\n",
    "        # Detect a promotion\n",
    "        promo = 'Yes' if product.find('div', class_='super') else 'No'\n",
    "\n",
    "        data.append({\n",
    "            'Product_name': name,\n",
    "            'Category': category,\n",
    "            'Price': price,\n",
    "            'Availability': availability,\n",
    "            'Promotion': promo\n",
    "        })\n",
    "\n",
    "    return data\n",
    "\n",
    "scrapped_data = scrape_product_data(url)\n",
    "df = pd.DataFrame(scrapped_data)"
   ]
  },
  {
   "cell_type": "markdown",
   "metadata": {
    "id": "C-T77GLc2m-x"
   },
   "source": [
    "**Some Data Cleaning Incorporated into the Web Scraping Script:**\n",
    "\n",
    "- Missing \"name_tag\" (**Product_name**) is scraped as \"Unknown\".\n",
    "- Missing \"category_tag\" (**Category**) is scraped as \"General\".\n",
    "- Since **Price** is a numerical feature, missing \"price_tag\" is scraped as \"0\".\n",
    "- For the **Availability** feature, products that can be added to the cart (**\"Ajouter Au Panier\"**), are scraped as \"**Available**\". If they cannot be added to cart, they are scraped as \"**Unavailable**\". Missing \"availability_tag\" is scraped as \"**Unknown**\""
   ]
  },
  {
   "cell_type": "code",
   "execution_count": 4,
   "metadata": {
    "colab": {
     "base_uri": "https://localhost:8080/",
     "height": 209
    },
    "id": "RXi0p4VjofnV",
    "outputId": "46cac0c5-1eaa-43f1-c168-f8747cc3585f"
   },
   "outputs": [
    {
     "data": {
      "text/plain": [
       "Availability\n",
       "Unknown        171\n",
       "Unavailable     96\n",
       "Available       40\n",
       "Name: count, dtype: int64"
      ]
     },
     "execution_count": 4,
     "metadata": {},
     "output_type": "execute_result"
    }
   ],
   "source": [
    "df['Availability'].value_counts()"
   ]
  },
  {
   "cell_type": "code",
   "execution_count": 5,
   "metadata": {
    "colab": {
     "base_uri": "https://localhost:8080/",
     "height": 606
    },
    "id": "-L-bfIghr1Y6",
    "outputId": "f5f5ebea-bfb0-450d-8d13-b6d21379a1b9"
   },
   "outputs": [
    {
     "name": "stdout",
     "output_type": "stream",
     "text": [
      "<class 'pandas.core.frame.DataFrame'>\n",
      "RangeIndex: 307 entries, 0 to 306\n",
      "Data columns (total 5 columns):\n",
      " #   Column        Non-Null Count  Dtype \n",
      "---  ------        --------------  ----- \n",
      " 0   Product_name  307 non-null    object\n",
      " 1   Category      307 non-null    object\n",
      " 2   Price         307 non-null    object\n",
      " 3   Availability  307 non-null    object\n",
      " 4   Promotion     307 non-null    object\n",
      "dtypes: object(5)\n",
      "memory usage: 12.1+ KB\n",
      "None \n",
      "\n"
     ]
    },
    {
     "data": {
      "text/html": [
       "<div>\n",
       "<style scoped>\n",
       "    .dataframe tbody tr th:only-of-type {\n",
       "        vertical-align: middle;\n",
       "    }\n",
       "\n",
       "    .dataframe tbody tr th {\n",
       "        vertical-align: top;\n",
       "    }\n",
       "\n",
       "    .dataframe thead th {\n",
       "        text-align: right;\n",
       "    }\n",
       "</style>\n",
       "<table border=\"1\" class=\"dataframe\">\n",
       "  <thead>\n",
       "    <tr style=\"text-align: right;\">\n",
       "      <th></th>\n",
       "      <th>Product_name</th>\n",
       "      <th>Category</th>\n",
       "      <th>Price</th>\n",
       "      <th>Availability</th>\n",
       "      <th>Promotion</th>\n",
       "    </tr>\n",
       "  </thead>\n",
       "  <tbody>\n",
       "    <tr>\n",
       "      <th>0</th>\n",
       "      <td>Unknown</td>\n",
       "      <td>General</td>\n",
       "      <td>0</td>\n",
       "      <td>Unknown</td>\n",
       "      <td>No</td>\n",
       "    </tr>\n",
       "    <tr>\n",
       "      <th>1</th>\n",
       "      <td>Unknown</td>\n",
       "      <td>General</td>\n",
       "      <td>0</td>\n",
       "      <td>Unknown</td>\n",
       "      <td>No</td>\n",
       "    </tr>\n",
       "    <tr>\n",
       "      <th>2</th>\n",
       "      <td>Unknown</td>\n",
       "      <td>General</td>\n",
       "      <td>0</td>\n",
       "      <td>Unknown</td>\n",
       "      <td>No</td>\n",
       "    </tr>\n",
       "    <tr>\n",
       "      <th>3</th>\n",
       "      <td>Unknown</td>\n",
       "      <td>General</td>\n",
       "      <td>0</td>\n",
       "      <td>Unknown</td>\n",
       "      <td>No</td>\n",
       "    </tr>\n",
       "    <tr>\n",
       "      <th>4</th>\n",
       "      <td>Passoire ronde en plastique</td>\n",
       "      <td></td>\n",
       "      <td>1,100</td>\n",
       "      <td>Unavailable</td>\n",
       "      <td>No</td>\n",
       "    </tr>\n",
       "    <tr>\n",
       "      <th>5</th>\n",
       "      <td>Couvercle alimentaire</td>\n",
       "      <td></td>\n",
       "      <td>1,200</td>\n",
       "      <td>Unavailable</td>\n",
       "      <td>No</td>\n",
       "    </tr>\n",
       "    <tr>\n",
       "      <th>6</th>\n",
       "      <td>Tasse imprimé</td>\n",
       "      <td></td>\n",
       "      <td>1,990</td>\n",
       "      <td>Unavailable</td>\n",
       "      <td>No</td>\n",
       "    </tr>\n",
       "    <tr>\n",
       "      <th>7</th>\n",
       "      <td>Pichet</td>\n",
       "      <td></td>\n",
       "      <td>2,000</td>\n",
       "      <td>Unavailable</td>\n",
       "      <td>No</td>\n",
       "    </tr>\n",
       "    <tr>\n",
       "      <th>8</th>\n",
       "      <td>Pelle et balayette</td>\n",
       "      <td></td>\n",
       "      <td>2,000</td>\n",
       "      <td>Unavailable</td>\n",
       "      <td>No</td>\n",
       "    </tr>\n",
       "    <tr>\n",
       "      <th>9</th>\n",
       "      <td>Balai en plastique</td>\n",
       "      <td></td>\n",
       "      <td>2,590</td>\n",
       "      <td>Unavailable</td>\n",
       "      <td>No</td>\n",
       "    </tr>\n",
       "  </tbody>\n",
       "</table>\n",
       "</div>"
      ],
      "text/plain": [
       "                  Product_name Category  Price Availability Promotion\n",
       "0                      Unknown  General      0      Unknown        No\n",
       "1                      Unknown  General      0      Unknown        No\n",
       "2                      Unknown  General      0      Unknown        No\n",
       "3                      Unknown  General      0      Unknown        No\n",
       "4  Passoire ronde en plastique           1,100  Unavailable        No\n",
       "5        Couvercle alimentaire           1,200  Unavailable        No\n",
       "6                Tasse imprimé           1,990  Unavailable        No\n",
       "7                       Pichet           2,000  Unavailable        No\n",
       "8           Pelle et balayette           2,000  Unavailable        No\n",
       "9           Balai en plastique           2,590  Unavailable        No"
      ]
     },
     "execution_count": 5,
     "metadata": {},
     "output_type": "execute_result"
    }
   ],
   "source": [
    "# Data  Overview\n",
    "\n",
    "print(df.info(), '\\n')\n",
    "\n",
    "df.head(10)"
   ]
  },
  {
   "cell_type": "code",
   "execution_count": 6,
   "metadata": {
    "id": "39uO1TtM3oXn"
   },
   "outputs": [],
   "source": [
    "# Removing non-digit characters from the price column and converting it to a float\n",
    "df['Price'] = df['Price'].str.replace('[^\\\\d]', '', regex=True)\n",
    "df['Price'] = pd.to_numeric(df['Price'], errors='coerce').astype(float)\n",
    "\n",
    "# Standardize text fields\n",
    "df['Product_name'] = df['Product_name'].str.title().str.strip()\n",
    "df['Category'] = df['Category'].str.title().str.strip()"
   ]
  },
  {
   "cell_type": "markdown",
   "metadata": {
    "id": "gKjfpjelpBxL"
   },
   "source": [
    "**More Data Cleaning Actions Taken:**\n",
    "\n",
    "- To convert the **Price** column from an object to a float, the non-digit characters (currency symbols, spaces, and commas) were removed first.\n",
    "- **Product_name** and **Category** columns were standardized."
   ]
  },
  {
   "cell_type": "code",
   "execution_count": 7,
   "metadata": {
    "colab": {
     "base_uri": "https://localhost:8080/"
    },
    "id": "qRzOyckw6Wnz",
    "outputId": "19a29533-e4ee-4d5f-c1fd-a89618305034"
   },
   "outputs": [
    {
     "name": "stdout",
     "output_type": "stream",
     "text": [
      "<class 'pandas.core.frame.DataFrame'>\n",
      "RangeIndex: 307 entries, 0 to 306\n",
      "Data columns (total 5 columns):\n",
      " #   Column        Non-Null Count  Dtype  \n",
      "---  ------        --------------  -----  \n",
      " 0   Product_name  307 non-null    object \n",
      " 1   Category      307 non-null    object \n",
      " 2   Price         307 non-null    float64\n",
      " 3   Availability  307 non-null    object \n",
      " 4   Promotion     307 non-null    object \n",
      "dtypes: float64(1), object(4)\n",
      "memory usage: 12.1+ KB\n"
     ]
    }
   ],
   "source": [
    "# Confirming Price column type conversion\n",
    "\n",
    "df.info()"
   ]
  },
  {
   "cell_type": "code",
   "execution_count": 8,
   "metadata": {
    "id": "n3P_SXrPy4V_"
   },
   "outputs": [],
   "source": [
    "# Saving the cleaned data\n",
    "\n",
    "df.to_csv(\"cleaned_aziza_data.csv\", index=False)"
   ]
  },
  {
   "cell_type": "code",
   "execution_count": 9,
   "metadata": {
    "colab": {
     "base_uri": "https://localhost:8080/"
    },
    "id": "NAwE6XxcC3S0",
    "outputId": "2181d0cf-cbc4-4853-bdfd-cb34a9f9fb42"
   },
   "outputs": [
    {
     "data": {
      "text/plain": [
       "array(['Unknown', 'Passoire Ronde En Plastique', 'Couvercle Alimentaire',\n",
       "       'Tasse Imprimé', 'Pichet', 'Pelle Et Balayette',\n",
       "       'Balai En Plastique', 'Set Savon',\n",
       "       'Tasse En Verre Coloré Avec Paille', 'Sous Plats En Bois',\n",
       "       'Ciseaux Multi-Usages', 'Lot De 4 Boites De Conservation',\n",
       "       'Plateau De Présentation', 'Lot De 3 Serviette Arc En Ciel',\n",
       "       'Pichet En Verre', 'Lot De 5 Boites De Conservation',\n",
       "       'Maida En Plastique Ronde Decorée',\n",
       "       'Poubelle En Plastique Avec Couvercle', 'Corbeille',\n",
       "       'Bocale En Verre Avec Couvercle', 'Mule Pour Femme',\n",
       "       'Distributeur À Eau', 'Spatule À Poisson',\n",
       "       'Plateau À Servir Rectangulaire', 'Pompe À Eau Rechargeable',\n",
       "       'Hachoir Manuel En Plastique', 'Support Essuie Tout',\n",
       "       'Distributeur À Eau Avec 3 Tasses', 'Bassine En Plastique',\n",
       "       'Couteau À Désosser', 'Set 6 Pots À Épices Avec Cuillères',\n",
       "       'Poussoir À Saucisse Manuel', 'Hachoir Électrique',\n",
       "       'Lot De 4 Chips Paprika', 'Lot De 3 Chips Fromage',\n",
       "       'Lot De 3 Chips Sel', 'Yaourt Brassé', 'Lot 4 Yaourts Brassés',\n",
       "       'Lot 4 Yaourts Brassés Abricot', 'Mini Cake Vanille',\n",
       "       'Crème Dessert Vanille Et Caramel', 'Yaourt À Boire Fraise',\n",
       "       'Yaourt À Boire Vanille', 'Cocktail De Fruits Multivitaminé',\n",
       "       'Salami De Dinde', 'Couscous Express',\n",
       "       'Lot De 5 Levures Pâtissière', 'Fromage Nature',\n",
       "       'Boisson Lacté Fraise Banane', 'Gaufrette Chocolat',\n",
       "       'Gaufrette Noisette', 'Gaufrette Fruit Des Bois',\n",
       "       'Gaufrette Fraise', 'Bonbon Jellino Pasti Froot',\n",
       "       'Gaufrette Fourrées Chocolat', 'Épice Romarin',\n",
       "       'Tomates Pelées En Cubes', 'Thym',\n",
       "       'Biscuit Fourré Goût Lait Et Caco', 'Biscuit Fourré Goût Chocolat',\n",
       "       'Biscuit Fourré Goût Noisette', 'Biscuit Fourré Goût Vanille',\n",
       "       'Lot De 5 Sachets De Levure Sèche Instantanée', 'Menthe',\n",
       "       'Groupage De 10 Cakes Vanille', 'Eau De Table', 'Biscuit Start',\n",
       "       'Pain De Mie Aux Céréales', 'Coriande', 'Boisson Gazeuse Cidre',\n",
       "       'Boisson Gazeuse Cocktail De Fruits', 'Boisson Gazeuse Pomme',\n",
       "       'Boisson Gazeuse', 'Lot 5 Boissons Au Jus Poire', 'Margarine',\n",
       "       'Groupage De 4 Tartelettes', 'Groupage Crostatini Figue',\n",
       "       'Groupage Crostatini Abricot', 'Boisson Gazeuse Citron',\n",
       "       'Boisson Gazeuse Pèche', 'Ketchup', 'Ras Hanout Moulu',\n",
       "       'Vinaigre Naturel', 'Fromage Goutta',\n",
       "       'Lot De 6 Yaourts Aromatisés Fruits De Bois',\n",
       "       'Lot De 6 Yaourts Aromatisés Banane',\n",
       "       'Lot D 6 Yaourts Aromatisés Citron',\n",
       "       'Lot De 6 Yaourts Aromatisés Pêche Abricot',\n",
       "       'Lot De 6 Yaourts Aromatisés Vanille', \"Jus Nectar D'Ananas\",\n",
       "       'Boisson Au Jus Multifruit', 'Boisson Au Jus Pomme',\n",
       "       'Lot Mayonnaise Avec Ketchup', 'Carvi Moulu',\n",
       "       'Boisson Au Jus Cocktail De Fruits', 'Borghol Moyen',\n",
       "       'Tablette De Chocolat Au Lait', 'Tablette Chocolat Noisette',\n",
       "       'Sauce Ketchup 330 Gr Solia',\n",
       "       \"Lot De 2 Bouteilles D'Eau Gazéifiée\",\n",
       "       \"Thon En Morceaux À L'Huile Végétale\", 'Piment Doux',\n",
       "       'Sucre Glace',\n",
       "       'Lot De 2 Fromage Mini Mozza Pizza -50% Sur La 2Ème',\n",
       "       'Piment Fort Moulu', 'Lot De 6 Cakes Tcm', 'Mayonnaise',\n",
       "       'Confiture Abricot',\n",
       "       'Groupage Mini Muffins Aux Pépites De Chocolat', 'Huile Végétale',\n",
       "       'Lot De 2 Harissa', 'Riz Basmati', 'Pate Feuilletée',\n",
       "       \"Déodorant Femme Lait D'Avocat\", 'Déodorant Femme Fruité',\n",
       "       'Pain Tacos', 'Lot De 2 Hrouss',\n",
       "       'Barre De Cake Avec Pépites De Chocolat', 'Jus Concentré',\n",
       "       'Poivre Noir Moulu', 'Frite Surgelée', 'Fromage Fondu En Portions',\n",
       "       'Lot Spécial Buggles Nacho+Chips', 'Lot De 2 Chips',\n",
       "       'Sauce Barbecue', \"Sauce À L'Ail\",\n",
       "       'Lot 3 Double Concentrés De Tomates',\n",
       "       'Fromage Péparation Alimentaire',\n",
       "       'Shampoing  Homme Cheveux Normaux À Gras',\n",
       "       'Shampoing Expert Femme Cheveux Trés Sec Et Cassant',\n",
       "       'Shampoing Expert Femme Cheveux Colorés Ou Mechés',\n",
       "       'Shampoing Expert Femme Cheveux Blonds Ou Méchés',\n",
       "       'Shampoing Expert Femme Cheveux Noirs Et Ternes',\n",
       "       'Aprés Shampoing Expert Femme Cheveux Très Sec Et Frisés',\n",
       "       'Aprés Shampoing Expert Femme  Cheveux Trés Sec Et Cassant',\n",
       "       'Semi Kit Coloration',\n",
       "       'Shampoing Expert Homme Anti Pelliculaire Tout Type Cheveux',\n",
       "       'Shampoing Expert Cheveux Très Secs Et Frisés',\n",
       "       'Aprés Shampoing Expert Cheveux Color Ou Meché',\n",
       "       'Aprés Shampoing Expert Cheveux Blonds Et Meché',\n",
       "       'Pain Maxi Tacos', 'Lot De 2  Papiers Aluminium + Film Fraicheur',\n",
       "       'Crème À Tartiner Aux Noisettes', 'Chamia Fruit Sec',\n",
       "       'Café Chicorée Soluble', \"Thon En Morceau À L'Huile De Tournesol\",\n",
       "       'Œufs Jaune/Jaune', 'Lot 2 Barquettes De Glace',\n",
       "       'Lot 2 Barquettes Glace Pistache Vanille',\n",
       "       'Lot 2 Barquettes Glace Chocolat Noisette',\n",
       "       'Lot 2 Barquettes Glace Fraise Cheesecake', 'Fromage Triangle',\n",
       "       \"Thon Entier À L'Huile Végétale\",\n",
       "       'Lot De 6 Boissons Gazeuse  Cidre',\n",
       "       'Lot De 6 Lot De 6Boisson Gazeuse Cola',\n",
       "       'Lot De 6 Boisson Gazeuse 1.5L Freshky Lime', 'Café',\n",
       "       'Huile De Friture', 'Roll On Femme Sensuel',\n",
       "       'Roll On Femme Fruité', 'Roll-On Homme Énergie',\n",
       "       'Roll On Femme Fresh & Dry', 'Semi Kit Coloration Aubergine',\n",
       "       'Semi Kit Coloration Blonde', 'Semi Kit Coloration Blond Foncé',\n",
       "       'Semi Kit Coloration Blond Moyen',\n",
       "       'Semi Kit Coloration Blonde Cendré',\n",
       "       'Semi Kit Coloration Châtain Classique',\n",
       "       'Semi Kit Coloration Châtain Foncé',\n",
       "       'Semi Kit Coloration Châtain Moyen',\n",
       "       'Semi Kit Coloration Couleur Noir',\n",
       "       'Lot De 4 Papier Hygiénique 2 Plis',\n",
       "       'Lot De 2 Essuie Tout Super Absorbant', 'Protège Slips Micro Aéré',\n",
       "       'Lingette Bébé', 'Protège Slip Classic Extra Long',\n",
       "       'Insecticides Fortox Extra Fort', 'Essuie-Tout',\n",
       "       'Shampoing Hair Fall Silica', \"Shampoing À L'Huile De Coco\",\n",
       "       'Shampoing Miel Anti Casse', 'Shampoing Beurre De Karité',\n",
       "       'Shampoing Réparateur Dommages', 'Shampooing Noir Brillant',\n",
       "       'Shampoing', 'Shampoing Nourrissant', 'Désodorisant Wc',\n",
       "       'Liquide Machine Floral', 'Liquide Machine Clear Power',\n",
       "       'Liquide Machine Active Power', 'Éventail En Plastique',\n",
       "       'Bol De Bain En Plastique', 'Pince Métallique', 'Passoire Légume',\n",
       "       'Crochet De Viande', 'Bassine Lavabo',\n",
       "       'Assiette Plate En Porcelaine',\n",
       "       'Saladier En Bambou15.5 Cm Ref 101A6', 'Set De Table',\n",
       "       'Pique Brochette En Bambou', 'Set 10 Éponges',\n",
       "       'Boite De Conservation', 'Grill Carré',\n",
       "       'Lot De 3 Boites Cure Dents', 'Lot De 3 Lavettes Microfibre',\n",
       "       'Boite De Congélation', 'Seau En Plastique', 'Carafe En Verre',\n",
       "       'Saladier En Bambou 25,5 Cm Ref 101C10', 'Eau De Javel',\n",
       "       'Tabouret En Plastique', 'Ventilateur Barbecue Manuel',\n",
       "       'Mortier En Bois', 'Set Ciseau+Pince Barbecue',\n",
       "       'Barbecue Pour Enfant', 'Carte Iptv 24 Mois',\n",
       "       \"Thon En Morceaux À L'Huile Végétal\",\n",
       "       'Bouteille À Huile Motif Olive', 'Saladier En Bambou',\n",
       "       'Grill Rond', 'Aiguiseur Couteau', 'Porte Essuie Tout',\n",
       "       'Set 2 Condiments', 'Plaque Barbecue', 'Ramaquin Avec Couvercle',\n",
       "       'Hachoir Manuelle', 'Barbecue En Métal', 'Passoire Avec Poignée',\n",
       "       'Bassine Avec Couvercle En Plastique', 'Bouteille À Huille',\n",
       "       'Moule À Glacon', 'Poêle', 'Set 12 Verres À Thé',\n",
       "       'Sauteuse  Avec Couvercle', 'Faitout',\n",
       "       'Set De 6 Verres A Eau Giselle 450 Ml', 'Thermos',\n",
       "       'Set 3 Moules À Lasagne +Spatule +Fromagère', 'Coffret 3 Couteaux',\n",
       "       'Chariot De Courses', 'Couteau Électrique', 'Couscoussier',\n",
       "       'Barbecue Portabel', 'Hachoir', 'Radio', 'Barbecue À Dos Plat',\n",
       "       'Grill', 'Plaque De Cuisson Électrique', 'Brochette Grill',\n",
       "       'Barbecue Circulaire', 'Autocuiseur Aluminium', 'Four Électrique',\n",
       "       'Boisson Au Jus Tropical Fruzzy', 'Vermicelles Chocolat',\n",
       "       'Préparation Cookies Vanille', 'Dragées Aux Amandes Multicolores',\n",
       "       'Dragées Aux Amandes', 'Poudre Main Floral',\n",
       "       \"Shampoing À L'Eau De Rose\"], dtype=object)"
      ]
     },
     "execution_count": 9,
     "metadata": {},
     "output_type": "execute_result"
    }
   ],
   "source": [
    "# Checking unique products to understand the data for hierarchical grouping\n",
    "\n",
    "df['Product_name'].unique()"
   ]
  },
  {
   "cell_type": "code",
   "execution_count": 10,
   "metadata": {
    "id": "u-jd2wBhElw3"
   },
   "outputs": [],
   "source": [
    "# Categorizing products into hierarchical groups\n",
    "\n",
    "def categorize_hierarchy(name):\n",
    "    name = name.lower()\n",
    "\n",
    "    # Electronics\n",
    "    if any(word in name for word in ['tv', 'casque', 'grille pain', 'blender', 'fer à repasser', 'lampe', 'gaufrier']):\n",
    "        return 'Electronics > Appliances'\n",
    "    elif any(word in name for word in ['voiture', 'poupée', 'jouet', 'dinosaure']):\n",
    "        return 'Toys & Games > Vehicles or Dolls'\n",
    "\n",
    "    # Food\n",
    "    elif any(word in name for word in ['yaourt', 'fromage', 'cake', 'gaufrette', 'muffin', 'tarte', 'pain', 'crème', 'biscuit']):\n",
    "        return 'Food > Dairy & Bakery'\n",
    "    elif any(word in name for word in ['boisson', 'jus', 'eau', 'nectar', 'café']):\n",
    "        return 'Food > Beverages'\n",
    "    elif any(word in name for word in ['sauce', 'harissa', 'huile', 'thon', 'salami', 'jambon', 'riz']):\n",
    "        return 'Food > Condiments & Staples'\n",
    "\n",
    "    # Household Items\n",
    "    elif any(word in name for word in ['liquide vaisselle', 'eau de javel', 'lessive', 'nettoyant']):\n",
    "        return 'Household > Cleaning Supplies'\n",
    "    elif any(word in name for word in ['verre', 'tasse', 'mug', 'assiette', 'boite', 'bouteille', 'pot', 'plateau']):\n",
    "        return 'Household > Kitchenware'\n",
    "    elif any(word in name for word in ['presse-agrumes', 'faitout', 'moule', 'sauteuse', 'plat']):\n",
    "        return 'Household > Cookware'\n",
    "\n",
    "    # Personal Care\n",
    "    elif any(word in name for word in ['shampooing', 'déodorant', 'dentifrice', 'cotton-tige']):\n",
    "        return 'Personal Care > Hygiene'\n",
    "\n",
    "    # Textiles & Accessories\n",
    "    elif any(word in name for word in ['chaussette', 'serviette']):\n",
    "        return 'Textiles > Apparel & Linens'\n",
    "\n",
    "    # Seasonal/Other\n",
    "    elif 'encensoir' in name:\n",
    "        return 'Seasonal > Religious Items'\n",
    "    elif 'hlou' in name or 'gateau' in name:\n",
    "        return 'Food > Sweets & Desserts'\n",
    "\n",
    "    else:\n",
    "        return 'General > Other'"
   ]
  },
  {
   "cell_type": "code",
   "execution_count": 11,
   "metadata": {
    "colab": {
     "base_uri": "https://localhost:8080/",
     "height": 676
    },
    "id": "simcd6B_HIyj",
    "outputId": "26801c3f-2cd0-4765-a3a8-41cb1c763244"
   },
   "outputs": [
    {
     "data": {
      "text/html": [
       "<div>\n",
       "<style scoped>\n",
       "    .dataframe tbody tr th:only-of-type {\n",
       "        vertical-align: middle;\n",
       "    }\n",
       "\n",
       "    .dataframe tbody tr th {\n",
       "        vertical-align: top;\n",
       "    }\n",
       "\n",
       "    .dataframe thead th {\n",
       "        text-align: right;\n",
       "    }\n",
       "</style>\n",
       "<table border=\"1\" class=\"dataframe\">\n",
       "  <thead>\n",
       "    <tr style=\"text-align: right;\">\n",
       "      <th></th>\n",
       "      <th>Product_name</th>\n",
       "      <th>Category</th>\n",
       "      <th>Price</th>\n",
       "      <th>Availability</th>\n",
       "      <th>Promotion</th>\n",
       "      <th>Hierarchy</th>\n",
       "    </tr>\n",
       "  </thead>\n",
       "  <tbody>\n",
       "    <tr>\n",
       "      <th>0</th>\n",
       "      <td>Unknown</td>\n",
       "      <td>General</td>\n",
       "      <td>0.0</td>\n",
       "      <td>Unknown</td>\n",
       "      <td>No</td>\n",
       "      <td>General &gt; Other</td>\n",
       "    </tr>\n",
       "    <tr>\n",
       "      <th>1</th>\n",
       "      <td>Unknown</td>\n",
       "      <td>General</td>\n",
       "      <td>0.0</td>\n",
       "      <td>Unknown</td>\n",
       "      <td>No</td>\n",
       "      <td>General &gt; Other</td>\n",
       "    </tr>\n",
       "    <tr>\n",
       "      <th>2</th>\n",
       "      <td>Unknown</td>\n",
       "      <td>General</td>\n",
       "      <td>0.0</td>\n",
       "      <td>Unknown</td>\n",
       "      <td>No</td>\n",
       "      <td>General &gt; Other</td>\n",
       "    </tr>\n",
       "    <tr>\n",
       "      <th>3</th>\n",
       "      <td>Unknown</td>\n",
       "      <td>General</td>\n",
       "      <td>0.0</td>\n",
       "      <td>Unknown</td>\n",
       "      <td>No</td>\n",
       "      <td>General &gt; Other</td>\n",
       "    </tr>\n",
       "    <tr>\n",
       "      <th>4</th>\n",
       "      <td>Passoire Ronde En Plastique</td>\n",
       "      <td></td>\n",
       "      <td>1100.0</td>\n",
       "      <td>Unavailable</td>\n",
       "      <td>No</td>\n",
       "      <td>General &gt; Other</td>\n",
       "    </tr>\n",
       "    <tr>\n",
       "      <th>5</th>\n",
       "      <td>Couvercle Alimentaire</td>\n",
       "      <td></td>\n",
       "      <td>1200.0</td>\n",
       "      <td>Unavailable</td>\n",
       "      <td>No</td>\n",
       "      <td>General &gt; Other</td>\n",
       "    </tr>\n",
       "    <tr>\n",
       "      <th>6</th>\n",
       "      <td>Tasse Imprimé</td>\n",
       "      <td></td>\n",
       "      <td>1990.0</td>\n",
       "      <td>Unavailable</td>\n",
       "      <td>No</td>\n",
       "      <td>Household &gt; Kitchenware</td>\n",
       "    </tr>\n",
       "    <tr>\n",
       "      <th>7</th>\n",
       "      <td>Pichet</td>\n",
       "      <td></td>\n",
       "      <td>2000.0</td>\n",
       "      <td>Unavailable</td>\n",
       "      <td>No</td>\n",
       "      <td>General &gt; Other</td>\n",
       "    </tr>\n",
       "    <tr>\n",
       "      <th>8</th>\n",
       "      <td>Pelle Et Balayette</td>\n",
       "      <td></td>\n",
       "      <td>2000.0</td>\n",
       "      <td>Unavailable</td>\n",
       "      <td>No</td>\n",
       "      <td>General &gt; Other</td>\n",
       "    </tr>\n",
       "    <tr>\n",
       "      <th>9</th>\n",
       "      <td>Balai En Plastique</td>\n",
       "      <td></td>\n",
       "      <td>2590.0</td>\n",
       "      <td>Unavailable</td>\n",
       "      <td>No</td>\n",
       "      <td>General &gt; Other</td>\n",
       "    </tr>\n",
       "    <tr>\n",
       "      <th>10</th>\n",
       "      <td>Set Savon</td>\n",
       "      <td></td>\n",
       "      <td>2800.0</td>\n",
       "      <td>Unavailable</td>\n",
       "      <td>No</td>\n",
       "      <td>General &gt; Other</td>\n",
       "    </tr>\n",
       "    <tr>\n",
       "      <th>11</th>\n",
       "      <td>Tasse En Verre Coloré Avec Paille</td>\n",
       "      <td></td>\n",
       "      <td>2990.0</td>\n",
       "      <td>Unavailable</td>\n",
       "      <td>No</td>\n",
       "      <td>Household &gt; Kitchenware</td>\n",
       "    </tr>\n",
       "    <tr>\n",
       "      <th>12</th>\n",
       "      <td>Sous Plats En Bois</td>\n",
       "      <td></td>\n",
       "      <td>2990.0</td>\n",
       "      <td>Unavailable</td>\n",
       "      <td>No</td>\n",
       "      <td>Household &gt; Cookware</td>\n",
       "    </tr>\n",
       "    <tr>\n",
       "      <th>13</th>\n",
       "      <td>Ciseaux Multi-Usages</td>\n",
       "      <td></td>\n",
       "      <td>4580.0</td>\n",
       "      <td>Unavailable</td>\n",
       "      <td>No</td>\n",
       "      <td>Food &gt; Beverages</td>\n",
       "    </tr>\n",
       "    <tr>\n",
       "      <th>14</th>\n",
       "      <td>Lot De 4 Boites De Conservation</td>\n",
       "      <td></td>\n",
       "      <td>4600.0</td>\n",
       "      <td>Unavailable</td>\n",
       "      <td>No</td>\n",
       "      <td>Household &gt; Kitchenware</td>\n",
       "    </tr>\n",
       "    <tr>\n",
       "      <th>15</th>\n",
       "      <td>Plateau De Présentation</td>\n",
       "      <td></td>\n",
       "      <td>5500.0</td>\n",
       "      <td>Unavailable</td>\n",
       "      <td>No</td>\n",
       "      <td>Food &gt; Beverages</td>\n",
       "    </tr>\n",
       "    <tr>\n",
       "      <th>16</th>\n",
       "      <td>Lot De 3 Serviette Arc En Ciel</td>\n",
       "      <td></td>\n",
       "      <td>5690.0</td>\n",
       "      <td>Unavailable</td>\n",
       "      <td>No</td>\n",
       "      <td>Textiles &gt; Apparel &amp; Linens</td>\n",
       "    </tr>\n",
       "    <tr>\n",
       "      <th>17</th>\n",
       "      <td>Pichet En Verre</td>\n",
       "      <td></td>\n",
       "      <td>5980.0</td>\n",
       "      <td>Unavailable</td>\n",
       "      <td>No</td>\n",
       "      <td>Household &gt; Kitchenware</td>\n",
       "    </tr>\n",
       "    <tr>\n",
       "      <th>18</th>\n",
       "      <td>Lot De 5 Boites De Conservation</td>\n",
       "      <td></td>\n",
       "      <td>6490.0</td>\n",
       "      <td>Unavailable</td>\n",
       "      <td>No</td>\n",
       "      <td>Household &gt; Kitchenware</td>\n",
       "    </tr>\n",
       "    <tr>\n",
       "      <th>19</th>\n",
       "      <td>Maida En Plastique Ronde Decorée</td>\n",
       "      <td></td>\n",
       "      <td>7490.0</td>\n",
       "      <td>Unavailable</td>\n",
       "      <td>No</td>\n",
       "      <td>General &gt; Other</td>\n",
       "    </tr>\n",
       "  </tbody>\n",
       "</table>\n",
       "</div>"
      ],
      "text/plain": [
       "                         Product_name Category   Price Availability Promotion  \\\n",
       "0                             Unknown  General     0.0      Unknown        No   \n",
       "1                             Unknown  General     0.0      Unknown        No   \n",
       "2                             Unknown  General     0.0      Unknown        No   \n",
       "3                             Unknown  General     0.0      Unknown        No   \n",
       "4         Passoire Ronde En Plastique           1100.0  Unavailable        No   \n",
       "5               Couvercle Alimentaire           1200.0  Unavailable        No   \n",
       "6                       Tasse Imprimé           1990.0  Unavailable        No   \n",
       "7                              Pichet           2000.0  Unavailable        No   \n",
       "8                  Pelle Et Balayette           2000.0  Unavailable        No   \n",
       "9                  Balai En Plastique           2590.0  Unavailable        No   \n",
       "10                          Set Savon           2800.0  Unavailable        No   \n",
       "11  Tasse En Verre Coloré Avec Paille           2990.0  Unavailable        No   \n",
       "12                 Sous Plats En Bois           2990.0  Unavailable        No   \n",
       "13               Ciseaux Multi-Usages           4580.0  Unavailable        No   \n",
       "14    Lot De 4 Boites De Conservation           4600.0  Unavailable        No   \n",
       "15            Plateau De Présentation           5500.0  Unavailable        No   \n",
       "16     Lot De 3 Serviette Arc En Ciel           5690.0  Unavailable        No   \n",
       "17                    Pichet En Verre           5980.0  Unavailable        No   \n",
       "18    Lot De 5 Boites De Conservation           6490.0  Unavailable        No   \n",
       "19   Maida En Plastique Ronde Decorée           7490.0  Unavailable        No   \n",
       "\n",
       "                      Hierarchy  \n",
       "0               General > Other  \n",
       "1               General > Other  \n",
       "2               General > Other  \n",
       "3               General > Other  \n",
       "4               General > Other  \n",
       "5               General > Other  \n",
       "6       Household > Kitchenware  \n",
       "7               General > Other  \n",
       "8               General > Other  \n",
       "9               General > Other  \n",
       "10              General > Other  \n",
       "11      Household > Kitchenware  \n",
       "12         Household > Cookware  \n",
       "13             Food > Beverages  \n",
       "14      Household > Kitchenware  \n",
       "15             Food > Beverages  \n",
       "16  Textiles > Apparel & Linens  \n",
       "17      Household > Kitchenware  \n",
       "18      Household > Kitchenware  \n",
       "19              General > Other  "
      ]
     },
     "execution_count": 11,
     "metadata": {},
     "output_type": "execute_result"
    }
   ],
   "source": [
    "# Applying hierarchical grouping to the DataFrame\n",
    "df['Hierarchy'] = df['Product_name'].apply(categorize_hierarchy)\n",
    "\n",
    "df.head(20)"
   ]
  },
  {
   "cell_type": "code",
   "execution_count": 12,
   "metadata": {
    "colab": {
     "base_uri": "https://localhost:8080/",
     "height": 717
    },
    "id": "SveZXgumwhqa",
    "outputId": "56374d87-8d1a-4025-f275-07c0092fdb7c"
   },
   "outputs": [
    {
     "data": {
      "application/vnd.plotly.v1+json": {
       "config": {
        "plotlyServerURL": "https://plot.ly"
       },
       "data": [
        {
         "alignmentgroup": "True",
         "boxpoints": "all",
         "hovertemplate": "Category=%{x}<br>Price (TND)=%{y}<extra></extra>",
         "legendgroup": "",
         "marker": {
          "color": "#636efa"
         },
         "name": "",
         "notched": false,
         "offsetgroup": "",
         "orientation": "v",
         "showlegend": false,
         "type": "box",
         "x": [
          "General > Other",
          "General > Other",
          "Household > Kitchenware",
          "General > Other",
          "General > Other",
          "General > Other",
          "General > Other",
          "Household > Kitchenware",
          "Household > Cookware",
          "Food > Beverages",
          "Household > Kitchenware",
          "Food > Beverages",
          "Textiles > Apparel & Linens",
          "Household > Kitchenware",
          "Household > Kitchenware",
          "General > Other",
          "General > Other",
          "General > Other",
          "Household > Kitchenware",
          "General > Other",
          "Food > Beverages",
          "General > Other",
          "Food > Beverages",
          "Food > Beverages",
          "General > Other",
          "General > Other",
          "Food > Beverages",
          "General > Other",
          "Household > Kitchenware",
          "Food > Beverages",
          "Household > Kitchenware",
          "General > Other",
          "General > Other",
          "General > Other",
          "Food > Dairy & Bakery",
          "General > Other",
          "Food > Dairy & Bakery",
          "Food > Dairy & Bakery",
          "Food > Dairy & Bakery",
          "Food > Dairy & Bakery",
          "Food > Dairy & Bakery",
          "Food > Dairy & Bakery",
          "Food > Dairy & Bakery",
          "General > Other",
          "Food > Condiments & Staples",
          "General > Other",
          "General > Other",
          "Food > Dairy & Bakery",
          "Food > Beverages",
          "Food > Dairy & Bakery",
          "Food > Dairy & Bakery",
          "Food > Dairy & Bakery",
          "Food > Dairy & Bakery",
          "General > Other",
          "Food > Dairy & Bakery",
          "General > Other",
          "General > Other",
          "General > Other",
          "Food > Dairy & Bakery",
          "Food > Dairy & Bakery",
          "Food > Dairy & Bakery",
          "Food > Dairy & Bakery",
          "General > Other",
          "General > Other",
          "Food > Dairy & Bakery",
          "Food > Beverages",
          "Food > Dairy & Bakery",
          "Food > Dairy & Bakery",
          "General > Other",
          "Food > Beverages",
          "Food > Beverages",
          "Food > Beverages",
          "Food > Beverages",
          "Food > Beverages",
          "General > Other",
          "Food > Dairy & Bakery",
          "General > Other",
          "General > Other",
          "Food > Beverages",
          "Food > Beverages",
          "Food > Beverages",
          "Food > Beverages",
          "General > Other",
          "General > Other",
          "Food > Beverages",
          "General > Other",
          "Food > Dairy & Bakery",
          "Food > Dairy & Bakery",
          "Food > Dairy & Bakery",
          "Food > Dairy & Bakery",
          "Food > Dairy & Bakery",
          "Food > Dairy & Bakery",
          "Food > Beverages",
          "Food > Beverages",
          "Food > Beverages",
          "General > Other",
          "General > Other",
          "Food > Beverages",
          "General > Other",
          "General > Other",
          "General > Other",
          "Food > Condiments & Staples",
          "Food > Beverages",
          "Food > Beverages",
          "General > Other",
          "General > Other",
          "Food > Dairy & Bakery",
          "General > Other",
          "Food > Dairy & Bakery",
          "General > Other",
          "General > Other",
          "Food > Dairy & Bakery",
          "Food > Condiments & Staples",
          "Food > Condiments & Staples",
          "Food > Condiments & Staples",
          "General > Other",
          "Personal Care > Hygiene",
          "Personal Care > Hygiene",
          "Food > Dairy & Bakery",
          "General > Other",
          "Food > Dairy & Bakery",
          "Food > Beverages",
          "General > Other",
          "General > Other",
          "Food > Dairy & Bakery",
          "General > Other",
          "General > Other",
          "Food > Condiments & Staples",
          "Food > Condiments & Staples",
          "General > Other",
          "Food > Dairy & Bakery",
          "General > Other",
          "General > Other",
          "General > Other",
          "General > Other",
          "General > Other",
          "General > Other",
          "General > Other",
          "General > Other",
          "General > Other",
          "General > Other",
          "General > Other",
          "General > Other",
          "Food > Dairy & Bakery",
          "General > Other",
          "Food > Dairy & Bakery",
          "General > Other",
          "General > Other",
          "Food > Beverages",
          "Food > Beverages",
          "General > Other",
          "General > Other",
          "General > Other",
          "General > Other",
          "Food > Dairy & Bakery",
          "Food > Dairy & Bakery",
          "Food > Condiments & Staples",
          "Food > Beverages",
          "Food > Beverages",
          "Food > Beverages",
          "Food > Beverages",
          "Food > Condiments & Staples",
          "Food > Condiments & Staples",
          "General > Other",
          "General > Other",
          "General > Other",
          "General > Other",
          "Personal Care > Hygiene",
          "General > Other",
          "General > Other",
          "General > Other",
          "General > Other",
          "General > Other",
          "General > Other",
          "General > Other",
          "General > Other",
          "General > Other",
          "General > Other",
          "General > Other",
          "General > Other",
          "General > Other",
          "General > Other",
          "General > Other",
          "General > Other",
          "General > Other",
          "General > Other",
          "General > Other",
          "General > Other",
          "Food > Condiments & Staples",
          "General > Other",
          "General > Other",
          "General > Other",
          "Personal Care > Hygiene",
          "General > Other",
          "General > Other",
          "General > Other",
          "General > Other",
          "General > Other",
          "General > Other",
          "General > Other",
          "Food > Condiments & Staples",
          "General > Other",
          "General > Other",
          "General > Other",
          "General > Other",
          "General > Other",
          "General > Other",
          "Household > Kitchenware",
          "General > Other",
          "General > Other",
          "General > Other",
          "General > Other",
          "Household > Kitchenware",
          "General > Other",
          "Household > Kitchenware",
          "General > Other",
          "Household > Kitchenware",
          "Food > Beverages",
          "Household > Kitchenware",
          "General > Other",
          "Food > Beverages",
          "General > Other",
          "General > Other",
          "General > Other",
          "Food > Beverages",
          "General > Other",
          "Electronics > Appliances",
          "Food > Beverages",
          "Food > Condiments & Staples",
          "General > Other",
          "General > Other",
          "Food > Beverages",
          "General > Other",
          "General > Other",
          "General > Other",
          "General > Other",
          "General > Other",
          "General > Other",
          "General > Other",
          "General > Other",
          "Household > Kitchenware",
          "Household > Cookware",
          "General > Other",
          "Household > Kitchenware",
          "Household > Cookware",
          "Household > Cookware",
          "Food > Beverages",
          "General > Other",
          "Household > Cookware",
          "Food > Beverages",
          "General > Other",
          "Food > Beverages",
          "General > Other",
          "General > Other",
          "General > Other",
          "General > Other",
          "Household > Cookware",
          "General > Other",
          "General > Other",
          "General > Other",
          "General > Other",
          "General > Other",
          "General > Other",
          "Food > Beverages",
          "General > Other",
          "General > Other",
          "General > Other",
          "General > Other",
          "General > Other",
          "Food > Beverages",
          "General > Other",
          "General > Other",
          "Household > Kitchenware",
          "General > Other",
          "General > Other",
          "General > Other",
          "General > Other",
          "Household > Kitchenware",
          "Household > Cookware",
          "Food > Beverages",
          "Household > Kitchenware",
          "Food > Beverages",
          "Textiles > Apparel & Linens",
          "Household > Kitchenware",
          "Household > Kitchenware",
          "General > Other",
          "General > Other",
          "General > Other",
          "Household > Kitchenware",
          "General > Other",
          "Food > Beverages",
          "General > Other",
          "Food > Beverages",
          "Food > Beverages",
          "General > Other",
          "General > Other",
          "Food > Beverages",
          "General > Other",
          "Household > Kitchenware",
          "Food > Beverages",
          "Household > Kitchenware",
          "General > Other",
          "General > Other"
         ],
         "x0": " ",
         "xaxis": "x",
         "y": {
          "bdata": "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",
          "dtype": "f8"
         },
         "y0": " ",
         "yaxis": "y"
        }
       ],
       "layout": {
        "boxmode": "group",
        "height": 700,
        "legend": {
         "tracegroupgap": 0
        },
        "margin": {
         "b": 200,
         "l": 60,
         "r": 40,
         "t": 60
        },
        "template": {
         "data": {
          "bar": [
           {
            "error_x": {
             "color": "#2a3f5f"
            },
            "error_y": {
             "color": "#2a3f5f"
            },
            "marker": {
             "line": {
              "color": "#E5ECF6",
              "width": 0.5
             },
             "pattern": {
              "fillmode": "overlay",
              "size": 10,
              "solidity": 0.2
             }
            },
            "type": "bar"
           }
          ],
          "barpolar": [
           {
            "marker": {
             "line": {
              "color": "#E5ECF6",
              "width": 0.5
             },
             "pattern": {
              "fillmode": "overlay",
              "size": 10,
              "solidity": 0.2
             }
            },
            "type": "barpolar"
           }
          ],
          "carpet": [
           {
            "aaxis": {
             "endlinecolor": "#2a3f5f",
             "gridcolor": "white",
             "linecolor": "white",
             "minorgridcolor": "white",
             "startlinecolor": "#2a3f5f"
            },
            "baxis": {
             "endlinecolor": "#2a3f5f",
             "gridcolor": "white",
             "linecolor": "white",
             "minorgridcolor": "white",
             "startlinecolor": "#2a3f5f"
            },
            "type": "carpet"
           }
          ],
          "choropleth": [
           {
            "colorbar": {
             "outlinewidth": 0,
             "ticks": ""
            },
            "type": "choropleth"
           }
          ],
          "contour": [
           {
            "colorbar": {
             "outlinewidth": 0,
             "ticks": ""
            },
            "colorscale": [
             [
              0,
              "#0d0887"
             ],
             [
              0.1111111111111111,
              "#46039f"
             ],
             [
              0.2222222222222222,
              "#7201a8"
             ],
             [
              0.3333333333333333,
              "#9c179e"
             ],
             [
              0.4444444444444444,
              "#bd3786"
             ],
             [
              0.5555555555555556,
              "#d8576b"
             ],
             [
              0.6666666666666666,
              "#ed7953"
             ],
             [
              0.7777777777777778,
              "#fb9f3a"
             ],
             [
              0.8888888888888888,
              "#fdca26"
             ],
             [
              1,
              "#f0f921"
             ]
            ],
            "type": "contour"
           }
          ],
          "contourcarpet": [
           {
            "colorbar": {
             "outlinewidth": 0,
             "ticks": ""
            },
            "type": "contourcarpet"
           }
          ],
          "heatmap": [
           {
            "colorbar": {
             "outlinewidth": 0,
             "ticks": ""
            },
            "colorscale": [
             [
              0,
              "#0d0887"
             ],
             [
              0.1111111111111111,
              "#46039f"
             ],
             [
              0.2222222222222222,
              "#7201a8"
             ],
             [
              0.3333333333333333,
              "#9c179e"
             ],
             [
              0.4444444444444444,
              "#bd3786"
             ],
             [
              0.5555555555555556,
              "#d8576b"
             ],
             [
              0.6666666666666666,
              "#ed7953"
             ],
             [
              0.7777777777777778,
              "#fb9f3a"
             ],
             [
              0.8888888888888888,
              "#fdca26"
             ],
             [
              1,
              "#f0f921"
             ]
            ],
            "type": "heatmap"
           }
          ],
          "histogram": [
           {
            "marker": {
             "pattern": {
              "fillmode": "overlay",
              "size": 10,
              "solidity": 0.2
             }
            },
            "type": "histogram"
           }
          ],
          "histogram2d": [
           {
            "colorbar": {
             "outlinewidth": 0,
             "ticks": ""
            },
            "colorscale": [
             [
              0,
              "#0d0887"
             ],
             [
              0.1111111111111111,
              "#46039f"
             ],
             [
              0.2222222222222222,
              "#7201a8"
             ],
             [
              0.3333333333333333,
              "#9c179e"
             ],
             [
              0.4444444444444444,
              "#bd3786"
             ],
             [
              0.5555555555555556,
              "#d8576b"
             ],
             [
              0.6666666666666666,
              "#ed7953"
             ],
             [
              0.7777777777777778,
              "#fb9f3a"
             ],
             [
              0.8888888888888888,
              "#fdca26"
             ],
             [
              1,
              "#f0f921"
             ]
            ],
            "type": "histogram2d"
           }
          ],
          "histogram2dcontour": [
           {
            "colorbar": {
             "outlinewidth": 0,
             "ticks": ""
            },
            "colorscale": [
             [
              0,
              "#0d0887"
             ],
             [
              0.1111111111111111,
              "#46039f"
             ],
             [
              0.2222222222222222,
              "#7201a8"
             ],
             [
              0.3333333333333333,
              "#9c179e"
             ],
             [
              0.4444444444444444,
              "#bd3786"
             ],
             [
              0.5555555555555556,
              "#d8576b"
             ],
             [
              0.6666666666666666,
              "#ed7953"
             ],
             [
              0.7777777777777778,
              "#fb9f3a"
             ],
             [
              0.8888888888888888,
              "#fdca26"
             ],
             [
              1,
              "#f0f921"
             ]
            ],
            "type": "histogram2dcontour"
           }
          ],
          "mesh3d": [
           {
            "colorbar": {
             "outlinewidth": 0,
             "ticks": ""
            },
            "type": "mesh3d"
           }
          ],
          "parcoords": [
           {
            "line": {
             "colorbar": {
              "outlinewidth": 0,
              "ticks": ""
             }
            },
            "type": "parcoords"
           }
          ],
          "pie": [
           {
            "automargin": true,
            "type": "pie"
           }
          ],
          "scatter": [
           {
            "fillpattern": {
             "fillmode": "overlay",
             "size": 10,
             "solidity": 0.2
            },
            "type": "scatter"
           }
          ],
          "scatter3d": [
           {
            "line": {
             "colorbar": {
              "outlinewidth": 0,
              "ticks": ""
             }
            },
            "marker": {
             "colorbar": {
              "outlinewidth": 0,
              "ticks": ""
             }
            },
            "type": "scatter3d"
           }
          ],
          "scattercarpet": [
           {
            "marker": {
             "colorbar": {
              "outlinewidth": 0,
              "ticks": ""
             }
            },
            "type": "scattercarpet"
           }
          ],
          "scattergeo": [
           {
            "marker": {
             "colorbar": {
              "outlinewidth": 0,
              "ticks": ""
             }
            },
            "type": "scattergeo"
           }
          ],
          "scattergl": [
           {
            "marker": {
             "colorbar": {
              "outlinewidth": 0,
              "ticks": ""
             }
            },
            "type": "scattergl"
           }
          ],
          "scattermap": [
           {
            "marker": {
             "colorbar": {
              "outlinewidth": 0,
              "ticks": ""
             }
            },
            "type": "scattermap"
           }
          ],
          "scattermapbox": [
           {
            "marker": {
             "colorbar": {
              "outlinewidth": 0,
              "ticks": ""
             }
            },
            "type": "scattermapbox"
           }
          ],
          "scatterpolar": [
           {
            "marker": {
             "colorbar": {
              "outlinewidth": 0,
              "ticks": ""
             }
            },
            "type": "scatterpolar"
           }
          ],
          "scatterpolargl": [
           {
            "marker": {
             "colorbar": {
              "outlinewidth": 0,
              "ticks": ""
             }
            },
            "type": "scatterpolargl"
           }
          ],
          "scatterternary": [
           {
            "marker": {
             "colorbar": {
              "outlinewidth": 0,
              "ticks": ""
             }
            },
            "type": "scatterternary"
           }
          ],
          "surface": [
           {
            "colorbar": {
             "outlinewidth": 0,
             "ticks": ""
            },
            "colorscale": [
             [
              0,
              "#0d0887"
             ],
             [
              0.1111111111111111,
              "#46039f"
             ],
             [
              0.2222222222222222,
              "#7201a8"
             ],
             [
              0.3333333333333333,
              "#9c179e"
             ],
             [
              0.4444444444444444,
              "#bd3786"
             ],
             [
              0.5555555555555556,
              "#d8576b"
             ],
             [
              0.6666666666666666,
              "#ed7953"
             ],
             [
              0.7777777777777778,
              "#fb9f3a"
             ],
             [
              0.8888888888888888,
              "#fdca26"
             ],
             [
              1,
              "#f0f921"
             ]
            ],
            "type": "surface"
           }
          ],
          "table": [
           {
            "cells": {
             "fill": {
              "color": "#EBF0F8"
             },
             "line": {
              "color": "white"
             }
            },
            "header": {
             "fill": {
              "color": "#C8D4E3"
             },
             "line": {
              "color": "white"
             }
            },
            "type": "table"
           }
          ]
         },
         "layout": {
          "annotationdefaults": {
           "arrowcolor": "#2a3f5f",
           "arrowhead": 0,
           "arrowwidth": 1
          },
          "autotypenumbers": "strict",
          "coloraxis": {
           "colorbar": {
            "outlinewidth": 0,
            "ticks": ""
           }
          },
          "colorscale": {
           "diverging": [
            [
             0,
             "#8e0152"
            ],
            [
             0.1,
             "#c51b7d"
            ],
            [
             0.2,
             "#de77ae"
            ],
            [
             0.3,
             "#f1b6da"
            ],
            [
             0.4,
             "#fde0ef"
            ],
            [
             0.5,
             "#f7f7f7"
            ],
            [
             0.6,
             "#e6f5d0"
            ],
            [
             0.7,
             "#b8e186"
            ],
            [
             0.8,
             "#7fbc41"
            ],
            [
             0.9,
             "#4d9221"
            ],
            [
             1,
             "#276419"
            ]
           ],
           "sequential": [
            [
             0,
             "#0d0887"
            ],
            [
             0.1111111111111111,
             "#46039f"
            ],
            [
             0.2222222222222222,
             "#7201a8"
            ],
            [
             0.3333333333333333,
             "#9c179e"
            ],
            [
             0.4444444444444444,
             "#bd3786"
            ],
            [
             0.5555555555555556,
             "#d8576b"
            ],
            [
             0.6666666666666666,
             "#ed7953"
            ],
            [
             0.7777777777777778,
             "#fb9f3a"
            ],
            [
             0.8888888888888888,
             "#fdca26"
            ],
            [
             1,
             "#f0f921"
            ]
           ],
           "sequentialminus": [
            [
             0,
             "#0d0887"
            ],
            [
             0.1111111111111111,
             "#46039f"
            ],
            [
             0.2222222222222222,
             "#7201a8"
            ],
            [
             0.3333333333333333,
             "#9c179e"
            ],
            [
             0.4444444444444444,
             "#bd3786"
            ],
            [
             0.5555555555555556,
             "#d8576b"
            ],
            [
             0.6666666666666666,
             "#ed7953"
            ],
            [
             0.7777777777777778,
             "#fb9f3a"
            ],
            [
             0.8888888888888888,
             "#fdca26"
            ],
            [
             1,
             "#f0f921"
            ]
           ]
          },
          "colorway": [
           "#636efa",
           "#EF553B",
           "#00cc96",
           "#ab63fa",
           "#FFA15A",
           "#19d3f3",
           "#FF6692",
           "#B6E880",
           "#FF97FF",
           "#FECB52"
          ],
          "font": {
           "color": "#2a3f5f"
          },
          "geo": {
           "bgcolor": "white",
           "lakecolor": "white",
           "landcolor": "#E5ECF6",
           "showlakes": true,
           "showland": true,
           "subunitcolor": "white"
          },
          "hoverlabel": {
           "align": "left"
          },
          "hovermode": "closest",
          "mapbox": {
           "style": "light"
          },
          "paper_bgcolor": "white",
          "plot_bgcolor": "#E5ECF6",
          "polar": {
           "angularaxis": {
            "gridcolor": "white",
            "linecolor": "white",
            "ticks": ""
           },
           "bgcolor": "#E5ECF6",
           "radialaxis": {
            "gridcolor": "white",
            "linecolor": "white",
            "ticks": ""
           }
          },
          "scene": {
           "xaxis": {
            "backgroundcolor": "#E5ECF6",
            "gridcolor": "white",
            "gridwidth": 2,
            "linecolor": "white",
            "showbackground": true,
            "ticks": "",
            "zerolinecolor": "white"
           },
           "yaxis": {
            "backgroundcolor": "#E5ECF6",
            "gridcolor": "white",
            "gridwidth": 2,
            "linecolor": "white",
            "showbackground": true,
            "ticks": "",
            "zerolinecolor": "white"
           },
           "zaxis": {
            "backgroundcolor": "#E5ECF6",
            "gridcolor": "white",
            "gridwidth": 2,
            "linecolor": "white",
            "showbackground": true,
            "ticks": "",
            "zerolinecolor": "white"
           }
          },
          "shapedefaults": {
           "line": {
            "color": "#2a3f5f"
           }
          },
          "ternary": {
           "aaxis": {
            "gridcolor": "white",
            "linecolor": "white",
            "ticks": ""
           },
           "baxis": {
            "gridcolor": "white",
            "linecolor": "white",
            "ticks": ""
           },
           "bgcolor": "#E5ECF6",
           "caxis": {
            "gridcolor": "white",
            "linecolor": "white",
            "ticks": ""
           }
          },
          "title": {
           "x": 0.05
          },
          "xaxis": {
           "automargin": true,
           "gridcolor": "white",
           "linecolor": "white",
           "ticks": "",
           "title": {
            "standoff": 15
           },
           "zerolinecolor": "white",
           "zerolinewidth": 2
          },
          "yaxis": {
           "automargin": true,
           "gridcolor": "white",
           "linecolor": "white",
           "ticks": "",
           "title": {
            "standoff": 15
           },
           "zerolinecolor": "white",
           "zerolinewidth": 2
          }
         }
        },
        "title": {
         "text": "Price Distribution by Product Category"
        },
        "width": 1100,
        "xaxis": {
         "anchor": "y",
         "domain": [
          0,
          1
         ],
         "tickangle": 45,
         "title": {
          "text": "Category"
         }
        },
        "yaxis": {
         "anchor": "x",
         "domain": [
          0,
          1
         ],
         "title": {
          "text": "Price (TND)"
         }
        }
       }
      }
     },
     "metadata": {},
     "output_type": "display_data"
    }
   ],
   "source": [
    "# Question 1: What is the Price Variability per Product Category (Which categories show wide pricing ranges)?\n",
    "\n",
    "fig = px.box(\n",
    "    df[df['Price'] > 0],\n",
    "    x='Hierarchy',\n",
    "    y='Price',\n",
    "    title='Price Distribution by Product Category',\n",
    "    labels={'Price': 'Price (TND)', 'Hierarchy': 'Category'},\n",
    "    points='all',  # To show all individual data points\n",
    ")\n",
    "\n",
    "# Updating layout for better readability\n",
    "fig.update_layout(\n",
    "    xaxis_tickangle=45,\n",
    "    height=700,  # To increase height\n",
    "    width=1100,  # To increase width\n",
    "    margin=dict(l=60, r=40, t=60, b=200),  # To add bottom margin for long labels\n",
    ")\n",
    "\n",
    "fig.show()"
   ]
  },
  {
   "cell_type": "markdown",
   "metadata": {
    "id": "zKjuvcT15Kyu"
   },
   "source": [
    "**Insight**\n",
    "\n",
    "- There is wide price variation in **Electronics > Appliances** (up to 100,000 TND!), **Textiles > Apparel & Linens**, and **Toys & Games > Vehicles or Dolls**.\n",
    "\n",
    "- Most food-related categories and household products are clustered at the low-price end (less than 10,000 TND, many below 5,000).\n",
    "\n",
    "- Outliers exist in almost every category, but particularly in **Electronics**, **Household > Cookware**, and **Toys & Games**.\n",
    "\n",
    "Electronics have the highest price range."
   ]
  },
  {
   "cell_type": "code",
   "execution_count": 13,
   "metadata": {
    "colab": {
     "base_uri": "https://localhost:8080/",
     "height": 542
    },
    "id": "SIeR8Nu9Hckd",
    "outputId": "00c956fc-d05d-4152-bc79-b703896aff08"
   },
   "outputs": [
    {
     "data": {
      "application/vnd.plotly.v1+json": {
       "config": {
        "plotlyServerURL": "https://plot.ly"
       },
       "data": [
        {
         "hovertemplate": "Product Category=%{x}<br>Average Price (TND)=%{marker.color}<extra></extra>",
         "legendgroup": "",
         "marker": {
          "color": {
           "bdata": "27Zt27Za1EAVog2fPwLEQAAAAAAAf8JA1ofG+tCuwEAAAAAAAJDAQPWmN73pvb1AAAAAAAA6tkAAAAAAAFq0QAAAAAAAmKdA",
           "dtype": "f8"
          },
          "coloraxis": "coloraxis",
          "pattern": {
           "shape": ""
          }
         },
         "name": "",
         "orientation": "v",
         "showlegend": false,
         "textposition": "auto",
         "type": "bar",
         "x": [
          "Household > Cookware",
          "General > Other",
          "Food > Condiments & Staples",
          "Food > Beverages",
          "Electronics > Appliances",
          "Household > Kitchenware",
          "Textiles > Apparel & Linens",
          "Personal Care > Hygiene",
          "Food > Dairy & Bakery"
         ],
         "xaxis": "x",
         "y": {
          "bdata": "27Zt27Za1EAVog2fPwLEQAAAAAAAf8JA1ofG+tCuwEAAAAAAAJDAQPWmN73pvb1AAAAAAAA6tkAAAAAAAFq0QAAAAAAAmKdA",
          "dtype": "f8"
         },
         "yaxis": "y"
        }
       ],
       "layout": {
        "barmode": "relative",
        "coloraxis": {
         "colorbar": {
          "title": {
           "text": "Average Price (TND)"
          }
         },
         "colorscale": [
          [
           0,
           "#440154"
          ],
          [
           0.1111111111111111,
           "#482878"
          ],
          [
           0.2222222222222222,
           "#3e4989"
          ],
          [
           0.3333333333333333,
           "#31688e"
          ],
          [
           0.4444444444444444,
           "#26828e"
          ],
          [
           0.5555555555555556,
           "#1f9e89"
          ],
          [
           0.6666666666666666,
           "#35b779"
          ],
          [
           0.7777777777777778,
           "#6ece58"
          ],
          [
           0.8888888888888888,
           "#b5de2b"
          ],
          [
           1,
           "#fde725"
          ]
         ]
        },
        "legend": {
         "tracegroupgap": 0
        },
        "template": {
         "data": {
          "bar": [
           {
            "error_x": {
             "color": "#2a3f5f"
            },
            "error_y": {
             "color": "#2a3f5f"
            },
            "marker": {
             "line": {
              "color": "#E5ECF6",
              "width": 0.5
             },
             "pattern": {
              "fillmode": "overlay",
              "size": 10,
              "solidity": 0.2
             }
            },
            "type": "bar"
           }
          ],
          "barpolar": [
           {
            "marker": {
             "line": {
              "color": "#E5ECF6",
              "width": 0.5
             },
             "pattern": {
              "fillmode": "overlay",
              "size": 10,
              "solidity": 0.2
             }
            },
            "type": "barpolar"
           }
          ],
          "carpet": [
           {
            "aaxis": {
             "endlinecolor": "#2a3f5f",
             "gridcolor": "white",
             "linecolor": "white",
             "minorgridcolor": "white",
             "startlinecolor": "#2a3f5f"
            },
            "baxis": {
             "endlinecolor": "#2a3f5f",
             "gridcolor": "white",
             "linecolor": "white",
             "minorgridcolor": "white",
             "startlinecolor": "#2a3f5f"
            },
            "type": "carpet"
           }
          ],
          "choropleth": [
           {
            "colorbar": {
             "outlinewidth": 0,
             "ticks": ""
            },
            "type": "choropleth"
           }
          ],
          "contour": [
           {
            "colorbar": {
             "outlinewidth": 0,
             "ticks": ""
            },
            "colorscale": [
             [
              0,
              "#0d0887"
             ],
             [
              0.1111111111111111,
              "#46039f"
             ],
             [
              0.2222222222222222,
              "#7201a8"
             ],
             [
              0.3333333333333333,
              "#9c179e"
             ],
             [
              0.4444444444444444,
              "#bd3786"
             ],
             [
              0.5555555555555556,
              "#d8576b"
             ],
             [
              0.6666666666666666,
              "#ed7953"
             ],
             [
              0.7777777777777778,
              "#fb9f3a"
             ],
             [
              0.8888888888888888,
              "#fdca26"
             ],
             [
              1,
              "#f0f921"
             ]
            ],
            "type": "contour"
           }
          ],
          "contourcarpet": [
           {
            "colorbar": {
             "outlinewidth": 0,
             "ticks": ""
            },
            "type": "contourcarpet"
           }
          ],
          "heatmap": [
           {
            "colorbar": {
             "outlinewidth": 0,
             "ticks": ""
            },
            "colorscale": [
             [
              0,
              "#0d0887"
             ],
             [
              0.1111111111111111,
              "#46039f"
             ],
             [
              0.2222222222222222,
              "#7201a8"
             ],
             [
              0.3333333333333333,
              "#9c179e"
             ],
             [
              0.4444444444444444,
              "#bd3786"
             ],
             [
              0.5555555555555556,
              "#d8576b"
             ],
             [
              0.6666666666666666,
              "#ed7953"
             ],
             [
              0.7777777777777778,
              "#fb9f3a"
             ],
             [
              0.8888888888888888,
              "#fdca26"
             ],
             [
              1,
              "#f0f921"
             ]
            ],
            "type": "heatmap"
           }
          ],
          "histogram": [
           {
            "marker": {
             "pattern": {
              "fillmode": "overlay",
              "size": 10,
              "solidity": 0.2
             }
            },
            "type": "histogram"
           }
          ],
          "histogram2d": [
           {
            "colorbar": {
             "outlinewidth": 0,
             "ticks": ""
            },
            "colorscale": [
             [
              0,
              "#0d0887"
             ],
             [
              0.1111111111111111,
              "#46039f"
             ],
             [
              0.2222222222222222,
              "#7201a8"
             ],
             [
              0.3333333333333333,
              "#9c179e"
             ],
             [
              0.4444444444444444,
              "#bd3786"
             ],
             [
              0.5555555555555556,
              "#d8576b"
             ],
             [
              0.6666666666666666,
              "#ed7953"
             ],
             [
              0.7777777777777778,
              "#fb9f3a"
             ],
             [
              0.8888888888888888,
              "#fdca26"
             ],
             [
              1,
              "#f0f921"
             ]
            ],
            "type": "histogram2d"
           }
          ],
          "histogram2dcontour": [
           {
            "colorbar": {
             "outlinewidth": 0,
             "ticks": ""
            },
            "colorscale": [
             [
              0,
              "#0d0887"
             ],
             [
              0.1111111111111111,
              "#46039f"
             ],
             [
              0.2222222222222222,
              "#7201a8"
             ],
             [
              0.3333333333333333,
              "#9c179e"
             ],
             [
              0.4444444444444444,
              "#bd3786"
             ],
             [
              0.5555555555555556,
              "#d8576b"
             ],
             [
              0.6666666666666666,
              "#ed7953"
             ],
             [
              0.7777777777777778,
              "#fb9f3a"
             ],
             [
              0.8888888888888888,
              "#fdca26"
             ],
             [
              1,
              "#f0f921"
             ]
            ],
            "type": "histogram2dcontour"
           }
          ],
          "mesh3d": [
           {
            "colorbar": {
             "outlinewidth": 0,
             "ticks": ""
            },
            "type": "mesh3d"
           }
          ],
          "parcoords": [
           {
            "line": {
             "colorbar": {
              "outlinewidth": 0,
              "ticks": ""
             }
            },
            "type": "parcoords"
           }
          ],
          "pie": [
           {
            "automargin": true,
            "type": "pie"
           }
          ],
          "scatter": [
           {
            "fillpattern": {
             "fillmode": "overlay",
             "size": 10,
             "solidity": 0.2
            },
            "type": "scatter"
           }
          ],
          "scatter3d": [
           {
            "line": {
             "colorbar": {
              "outlinewidth": 0,
              "ticks": ""
             }
            },
            "marker": {
             "colorbar": {
              "outlinewidth": 0,
              "ticks": ""
             }
            },
            "type": "scatter3d"
           }
          ],
          "scattercarpet": [
           {
            "marker": {
             "colorbar": {
              "outlinewidth": 0,
              "ticks": ""
             }
            },
            "type": "scattercarpet"
           }
          ],
          "scattergeo": [
           {
            "marker": {
             "colorbar": {
              "outlinewidth": 0,
              "ticks": ""
             }
            },
            "type": "scattergeo"
           }
          ],
          "scattergl": [
           {
            "marker": {
             "colorbar": {
              "outlinewidth": 0,
              "ticks": ""
             }
            },
            "type": "scattergl"
           }
          ],
          "scattermap": [
           {
            "marker": {
             "colorbar": {
              "outlinewidth": 0,
              "ticks": ""
             }
            },
            "type": "scattermap"
           }
          ],
          "scattermapbox": [
           {
            "marker": {
             "colorbar": {
              "outlinewidth": 0,
              "ticks": ""
             }
            },
            "type": "scattermapbox"
           }
          ],
          "scatterpolar": [
           {
            "marker": {
             "colorbar": {
              "outlinewidth": 0,
              "ticks": ""
             }
            },
            "type": "scatterpolar"
           }
          ],
          "scatterpolargl": [
           {
            "marker": {
             "colorbar": {
              "outlinewidth": 0,
              "ticks": ""
             }
            },
            "type": "scatterpolargl"
           }
          ],
          "scatterternary": [
           {
            "marker": {
             "colorbar": {
              "outlinewidth": 0,
              "ticks": ""
             }
            },
            "type": "scatterternary"
           }
          ],
          "surface": [
           {
            "colorbar": {
             "outlinewidth": 0,
             "ticks": ""
            },
            "colorscale": [
             [
              0,
              "#0d0887"
             ],
             [
              0.1111111111111111,
              "#46039f"
             ],
             [
              0.2222222222222222,
              "#7201a8"
             ],
             [
              0.3333333333333333,
              "#9c179e"
             ],
             [
              0.4444444444444444,
              "#bd3786"
             ],
             [
              0.5555555555555556,
              "#d8576b"
             ],
             [
              0.6666666666666666,
              "#ed7953"
             ],
             [
              0.7777777777777778,
              "#fb9f3a"
             ],
             [
              0.8888888888888888,
              "#fdca26"
             ],
             [
              1,
              "#f0f921"
             ]
            ],
            "type": "surface"
           }
          ],
          "table": [
           {
            "cells": {
             "fill": {
              "color": "#EBF0F8"
             },
             "line": {
              "color": "white"
             }
            },
            "header": {
             "fill": {
              "color": "#C8D4E3"
             },
             "line": {
              "color": "white"
             }
            },
            "type": "table"
           }
          ]
         },
         "layout": {
          "annotationdefaults": {
           "arrowcolor": "#2a3f5f",
           "arrowhead": 0,
           "arrowwidth": 1
          },
          "autotypenumbers": "strict",
          "coloraxis": {
           "colorbar": {
            "outlinewidth": 0,
            "ticks": ""
           }
          },
          "colorscale": {
           "diverging": [
            [
             0,
             "#8e0152"
            ],
            [
             0.1,
             "#c51b7d"
            ],
            [
             0.2,
             "#de77ae"
            ],
            [
             0.3,
             "#f1b6da"
            ],
            [
             0.4,
             "#fde0ef"
            ],
            [
             0.5,
             "#f7f7f7"
            ],
            [
             0.6,
             "#e6f5d0"
            ],
            [
             0.7,
             "#b8e186"
            ],
            [
             0.8,
             "#7fbc41"
            ],
            [
             0.9,
             "#4d9221"
            ],
            [
             1,
             "#276419"
            ]
           ],
           "sequential": [
            [
             0,
             "#0d0887"
            ],
            [
             0.1111111111111111,
             "#46039f"
            ],
            [
             0.2222222222222222,
             "#7201a8"
            ],
            [
             0.3333333333333333,
             "#9c179e"
            ],
            [
             0.4444444444444444,
             "#bd3786"
            ],
            [
             0.5555555555555556,
             "#d8576b"
            ],
            [
             0.6666666666666666,
             "#ed7953"
            ],
            [
             0.7777777777777778,
             "#fb9f3a"
            ],
            [
             0.8888888888888888,
             "#fdca26"
            ],
            [
             1,
             "#f0f921"
            ]
           ],
           "sequentialminus": [
            [
             0,
             "#0d0887"
            ],
            [
             0.1111111111111111,
             "#46039f"
            ],
            [
             0.2222222222222222,
             "#7201a8"
            ],
            [
             0.3333333333333333,
             "#9c179e"
            ],
            [
             0.4444444444444444,
             "#bd3786"
            ],
            [
             0.5555555555555556,
             "#d8576b"
            ],
            [
             0.6666666666666666,
             "#ed7953"
            ],
            [
             0.7777777777777778,
             "#fb9f3a"
            ],
            [
             0.8888888888888888,
             "#fdca26"
            ],
            [
             1,
             "#f0f921"
            ]
           ]
          },
          "colorway": [
           "#636efa",
           "#EF553B",
           "#00cc96",
           "#ab63fa",
           "#FFA15A",
           "#19d3f3",
           "#FF6692",
           "#B6E880",
           "#FF97FF",
           "#FECB52"
          ],
          "font": {
           "color": "#2a3f5f"
          },
          "geo": {
           "bgcolor": "white",
           "lakecolor": "white",
           "landcolor": "#E5ECF6",
           "showlakes": true,
           "showland": true,
           "subunitcolor": "white"
          },
          "hoverlabel": {
           "align": "left"
          },
          "hovermode": "closest",
          "mapbox": {
           "style": "light"
          },
          "paper_bgcolor": "white",
          "plot_bgcolor": "#E5ECF6",
          "polar": {
           "angularaxis": {
            "gridcolor": "white",
            "linecolor": "white",
            "ticks": ""
           },
           "bgcolor": "#E5ECF6",
           "radialaxis": {
            "gridcolor": "white",
            "linecolor": "white",
            "ticks": ""
           }
          },
          "scene": {
           "xaxis": {
            "backgroundcolor": "#E5ECF6",
            "gridcolor": "white",
            "gridwidth": 2,
            "linecolor": "white",
            "showbackground": true,
            "ticks": "",
            "zerolinecolor": "white"
           },
           "yaxis": {
            "backgroundcolor": "#E5ECF6",
            "gridcolor": "white",
            "gridwidth": 2,
            "linecolor": "white",
            "showbackground": true,
            "ticks": "",
            "zerolinecolor": "white"
           },
           "zaxis": {
            "backgroundcolor": "#E5ECF6",
            "gridcolor": "white",
            "gridwidth": 2,
            "linecolor": "white",
            "showbackground": true,
            "ticks": "",
            "zerolinecolor": "white"
           }
          },
          "shapedefaults": {
           "line": {
            "color": "#2a3f5f"
           }
          },
          "ternary": {
           "aaxis": {
            "gridcolor": "white",
            "linecolor": "white",
            "ticks": ""
           },
           "baxis": {
            "gridcolor": "white",
            "linecolor": "white",
            "ticks": ""
           },
           "bgcolor": "#E5ECF6",
           "caxis": {
            "gridcolor": "white",
            "linecolor": "white",
            "ticks": ""
           }
          },
          "title": {
           "x": 0.05
          },
          "xaxis": {
           "automargin": true,
           "gridcolor": "white",
           "linecolor": "white",
           "ticks": "",
           "title": {
            "standoff": 15
           },
           "zerolinecolor": "white",
           "zerolinewidth": 2
          },
          "yaxis": {
           "automargin": true,
           "gridcolor": "white",
           "linecolor": "white",
           "ticks": "",
           "title": {
            "standoff": 15
           },
           "zerolinecolor": "white",
           "zerolinewidth": 2
          }
         }
        },
        "title": {
         "text": "Average Price per Product Category"
        },
        "xaxis": {
         "anchor": "y",
         "domain": [
          0,
          1
         ],
         "tickangle": 45,
         "title": {
          "text": "Product Category"
         }
        },
        "yaxis": {
         "anchor": "x",
         "domain": [
          0,
          1
         ],
         "title": {
          "text": "Average Price (TND)"
         }
        }
       }
      }
     },
     "metadata": {},
     "output_type": "display_data"
    }
   ],
   "source": [
    "# Question 2: What is the Average Pricing Within Each Product Category (Which product categories are the most/least expensive)?\n",
    "\n",
    "fig = px.bar(\n",
    "    df.groupby('Hierarchy', as_index=False)['Price'].mean().sort_values(by='Price', ascending=False),\n",
    "    x='Hierarchy',\n",
    "    y='Price',\n",
    "    title='Average Price per Product Category',\n",
    "    labels={'Price': 'Average Price (TND)', 'Hierarchy': 'Product Category'},\n",
    "    color='Price',\n",
    "    color_continuous_scale='Viridis'\n",
    ")\n",
    "fig.update_layout(xaxis_tickangle=45)\n",
    "fig.show()\n"
   ]
  },
  {
   "cell_type": "markdown",
   "metadata": {
    "id": "ke8VB2ve6kWl"
   },
   "source": [
    "**Insight**\n",
    "\n",
    "- **Electronics > Appliances** have the highest average price, while **Food > Diary & Bakery** have the lowest average price."
   ]
  },
  {
   "cell_type": "code",
   "execution_count": 14,
   "metadata": {
    "colab": {
     "base_uri": "https://localhost:8080/",
     "height": 542
    },
    "id": "RTxgkCccQcwH",
    "outputId": "8f4a0528-297c-4d23-b12e-365eb9bd43a6"
   },
   "outputs": [
    {
     "data": {
      "application/vnd.plotly.v1+json": {
       "config": {
        "plotlyServerURL": "https://plot.ly"
       },
       "data": [
        {
         "alignmentgroup": "True",
         "hovertemplate": "Promotion=No<br>Product Category=%{x}<br>Count=%{y}<extra></extra>",
         "legendgroup": "No",
         "marker": {
          "color": "#636efa",
          "pattern": {
           "shape": ""
          }
         },
         "name": "No",
         "offsetgroup": "No",
         "orientation": "v",
         "showlegend": true,
         "textposition": "auto",
         "type": "bar",
         "x": [
          "Electronics > Appliances",
          "Food > Beverages",
          "Food > Condiments & Staples",
          "Food > Dairy & Bakery",
          "General > Other",
          "Household > Cookware",
          "Household > Kitchenware",
          "Personal Care > Hygiene",
          "Textiles > Apparel & Linens"
         ],
         "xaxis": "x",
         "y": {
          "bdata": "AQAxAAwAJwCpAAcAFwAEAAIA",
          "dtype": "i2"
         },
         "yaxis": "y"
        },
        {
         "alignmentgroup": "True",
         "hovertemplate": "Promotion=Yes<br>Product Category=%{x}<br>Count=%{y}<extra></extra>",
         "legendgroup": "Yes",
         "marker": {
          "color": "#EF553B",
          "pattern": {
           "shape": ""
          }
         },
         "name": "Yes",
         "offsetgroup": "Yes",
         "orientation": "v",
         "showlegend": true,
         "textposition": "auto",
         "type": "bar",
         "x": [
          "Food > Condiments & Staples"
         ],
         "xaxis": "x",
         "y": {
          "bdata": "AQ==",
          "dtype": "i1"
         },
         "yaxis": "y"
        }
       ],
       "layout": {
        "barmode": "group",
        "legend": {
         "title": {
          "text": "Promotion"
         },
         "tracegroupgap": 0
        },
        "template": {
         "data": {
          "bar": [
           {
            "error_x": {
             "color": "#2a3f5f"
            },
            "error_y": {
             "color": "#2a3f5f"
            },
            "marker": {
             "line": {
              "color": "#E5ECF6",
              "width": 0.5
             },
             "pattern": {
              "fillmode": "overlay",
              "size": 10,
              "solidity": 0.2
             }
            },
            "type": "bar"
           }
          ],
          "barpolar": [
           {
            "marker": {
             "line": {
              "color": "#E5ECF6",
              "width": 0.5
             },
             "pattern": {
              "fillmode": "overlay",
              "size": 10,
              "solidity": 0.2
             }
            },
            "type": "barpolar"
           }
          ],
          "carpet": [
           {
            "aaxis": {
             "endlinecolor": "#2a3f5f",
             "gridcolor": "white",
             "linecolor": "white",
             "minorgridcolor": "white",
             "startlinecolor": "#2a3f5f"
            },
            "baxis": {
             "endlinecolor": "#2a3f5f",
             "gridcolor": "white",
             "linecolor": "white",
             "minorgridcolor": "white",
             "startlinecolor": "#2a3f5f"
            },
            "type": "carpet"
           }
          ],
          "choropleth": [
           {
            "colorbar": {
             "outlinewidth": 0,
             "ticks": ""
            },
            "type": "choropleth"
           }
          ],
          "contour": [
           {
            "colorbar": {
             "outlinewidth": 0,
             "ticks": ""
            },
            "colorscale": [
             [
              0,
              "#0d0887"
             ],
             [
              0.1111111111111111,
              "#46039f"
             ],
             [
              0.2222222222222222,
              "#7201a8"
             ],
             [
              0.3333333333333333,
              "#9c179e"
             ],
             [
              0.4444444444444444,
              "#bd3786"
             ],
             [
              0.5555555555555556,
              "#d8576b"
             ],
             [
              0.6666666666666666,
              "#ed7953"
             ],
             [
              0.7777777777777778,
              "#fb9f3a"
             ],
             [
              0.8888888888888888,
              "#fdca26"
             ],
             [
              1,
              "#f0f921"
             ]
            ],
            "type": "contour"
           }
          ],
          "contourcarpet": [
           {
            "colorbar": {
             "outlinewidth": 0,
             "ticks": ""
            },
            "type": "contourcarpet"
           }
          ],
          "heatmap": [
           {
            "colorbar": {
             "outlinewidth": 0,
             "ticks": ""
            },
            "colorscale": [
             [
              0,
              "#0d0887"
             ],
             [
              0.1111111111111111,
              "#46039f"
             ],
             [
              0.2222222222222222,
              "#7201a8"
             ],
             [
              0.3333333333333333,
              "#9c179e"
             ],
             [
              0.4444444444444444,
              "#bd3786"
             ],
             [
              0.5555555555555556,
              "#d8576b"
             ],
             [
              0.6666666666666666,
              "#ed7953"
             ],
             [
              0.7777777777777778,
              "#fb9f3a"
             ],
             [
              0.8888888888888888,
              "#fdca26"
             ],
             [
              1,
              "#f0f921"
             ]
            ],
            "type": "heatmap"
           }
          ],
          "histogram": [
           {
            "marker": {
             "pattern": {
              "fillmode": "overlay",
              "size": 10,
              "solidity": 0.2
             }
            },
            "type": "histogram"
           }
          ],
          "histogram2d": [
           {
            "colorbar": {
             "outlinewidth": 0,
             "ticks": ""
            },
            "colorscale": [
             [
              0,
              "#0d0887"
             ],
             [
              0.1111111111111111,
              "#46039f"
             ],
             [
              0.2222222222222222,
              "#7201a8"
             ],
             [
              0.3333333333333333,
              "#9c179e"
             ],
             [
              0.4444444444444444,
              "#bd3786"
             ],
             [
              0.5555555555555556,
              "#d8576b"
             ],
             [
              0.6666666666666666,
              "#ed7953"
             ],
             [
              0.7777777777777778,
              "#fb9f3a"
             ],
             [
              0.8888888888888888,
              "#fdca26"
             ],
             [
              1,
              "#f0f921"
             ]
            ],
            "type": "histogram2d"
           }
          ],
          "histogram2dcontour": [
           {
            "colorbar": {
             "outlinewidth": 0,
             "ticks": ""
            },
            "colorscale": [
             [
              0,
              "#0d0887"
             ],
             [
              0.1111111111111111,
              "#46039f"
             ],
             [
              0.2222222222222222,
              "#7201a8"
             ],
             [
              0.3333333333333333,
              "#9c179e"
             ],
             [
              0.4444444444444444,
              "#bd3786"
             ],
             [
              0.5555555555555556,
              "#d8576b"
             ],
             [
              0.6666666666666666,
              "#ed7953"
             ],
             [
              0.7777777777777778,
              "#fb9f3a"
             ],
             [
              0.8888888888888888,
              "#fdca26"
             ],
             [
              1,
              "#f0f921"
             ]
            ],
            "type": "histogram2dcontour"
           }
          ],
          "mesh3d": [
           {
            "colorbar": {
             "outlinewidth": 0,
             "ticks": ""
            },
            "type": "mesh3d"
           }
          ],
          "parcoords": [
           {
            "line": {
             "colorbar": {
              "outlinewidth": 0,
              "ticks": ""
             }
            },
            "type": "parcoords"
           }
          ],
          "pie": [
           {
            "automargin": true,
            "type": "pie"
           }
          ],
          "scatter": [
           {
            "fillpattern": {
             "fillmode": "overlay",
             "size": 10,
             "solidity": 0.2
            },
            "type": "scatter"
           }
          ],
          "scatter3d": [
           {
            "line": {
             "colorbar": {
              "outlinewidth": 0,
              "ticks": ""
             }
            },
            "marker": {
             "colorbar": {
              "outlinewidth": 0,
              "ticks": ""
             }
            },
            "type": "scatter3d"
           }
          ],
          "scattercarpet": [
           {
            "marker": {
             "colorbar": {
              "outlinewidth": 0,
              "ticks": ""
             }
            },
            "type": "scattercarpet"
           }
          ],
          "scattergeo": [
           {
            "marker": {
             "colorbar": {
              "outlinewidth": 0,
              "ticks": ""
             }
            },
            "type": "scattergeo"
           }
          ],
          "scattergl": [
           {
            "marker": {
             "colorbar": {
              "outlinewidth": 0,
              "ticks": ""
             }
            },
            "type": "scattergl"
           }
          ],
          "scattermap": [
           {
            "marker": {
             "colorbar": {
              "outlinewidth": 0,
              "ticks": ""
             }
            },
            "type": "scattermap"
           }
          ],
          "scattermapbox": [
           {
            "marker": {
             "colorbar": {
              "outlinewidth": 0,
              "ticks": ""
             }
            },
            "type": "scattermapbox"
           }
          ],
          "scatterpolar": [
           {
            "marker": {
             "colorbar": {
              "outlinewidth": 0,
              "ticks": ""
             }
            },
            "type": "scatterpolar"
           }
          ],
          "scatterpolargl": [
           {
            "marker": {
             "colorbar": {
              "outlinewidth": 0,
              "ticks": ""
             }
            },
            "type": "scatterpolargl"
           }
          ],
          "scatterternary": [
           {
            "marker": {
             "colorbar": {
              "outlinewidth": 0,
              "ticks": ""
             }
            },
            "type": "scatterternary"
           }
          ],
          "surface": [
           {
            "colorbar": {
             "outlinewidth": 0,
             "ticks": ""
            },
            "colorscale": [
             [
              0,
              "#0d0887"
             ],
             [
              0.1111111111111111,
              "#46039f"
             ],
             [
              0.2222222222222222,
              "#7201a8"
             ],
             [
              0.3333333333333333,
              "#9c179e"
             ],
             [
              0.4444444444444444,
              "#bd3786"
             ],
             [
              0.5555555555555556,
              "#d8576b"
             ],
             [
              0.6666666666666666,
              "#ed7953"
             ],
             [
              0.7777777777777778,
              "#fb9f3a"
             ],
             [
              0.8888888888888888,
              "#fdca26"
             ],
             [
              1,
              "#f0f921"
             ]
            ],
            "type": "surface"
           }
          ],
          "table": [
           {
            "cells": {
             "fill": {
              "color": "#EBF0F8"
             },
             "line": {
              "color": "white"
             }
            },
            "header": {
             "fill": {
              "color": "#C8D4E3"
             },
             "line": {
              "color": "white"
             }
            },
            "type": "table"
           }
          ]
         },
         "layout": {
          "annotationdefaults": {
           "arrowcolor": "#2a3f5f",
           "arrowhead": 0,
           "arrowwidth": 1
          },
          "autotypenumbers": "strict",
          "coloraxis": {
           "colorbar": {
            "outlinewidth": 0,
            "ticks": ""
           }
          },
          "colorscale": {
           "diverging": [
            [
             0,
             "#8e0152"
            ],
            [
             0.1,
             "#c51b7d"
            ],
            [
             0.2,
             "#de77ae"
            ],
            [
             0.3,
             "#f1b6da"
            ],
            [
             0.4,
             "#fde0ef"
            ],
            [
             0.5,
             "#f7f7f7"
            ],
            [
             0.6,
             "#e6f5d0"
            ],
            [
             0.7,
             "#b8e186"
            ],
            [
             0.8,
             "#7fbc41"
            ],
            [
             0.9,
             "#4d9221"
            ],
            [
             1,
             "#276419"
            ]
           ],
           "sequential": [
            [
             0,
             "#0d0887"
            ],
            [
             0.1111111111111111,
             "#46039f"
            ],
            [
             0.2222222222222222,
             "#7201a8"
            ],
            [
             0.3333333333333333,
             "#9c179e"
            ],
            [
             0.4444444444444444,
             "#bd3786"
            ],
            [
             0.5555555555555556,
             "#d8576b"
            ],
            [
             0.6666666666666666,
             "#ed7953"
            ],
            [
             0.7777777777777778,
             "#fb9f3a"
            ],
            [
             0.8888888888888888,
             "#fdca26"
            ],
            [
             1,
             "#f0f921"
            ]
           ],
           "sequentialminus": [
            [
             0,
             "#0d0887"
            ],
            [
             0.1111111111111111,
             "#46039f"
            ],
            [
             0.2222222222222222,
             "#7201a8"
            ],
            [
             0.3333333333333333,
             "#9c179e"
            ],
            [
             0.4444444444444444,
             "#bd3786"
            ],
            [
             0.5555555555555556,
             "#d8576b"
            ],
            [
             0.6666666666666666,
             "#ed7953"
            ],
            [
             0.7777777777777778,
             "#fb9f3a"
            ],
            [
             0.8888888888888888,
             "#fdca26"
            ],
            [
             1,
             "#f0f921"
            ]
           ]
          },
          "colorway": [
           "#636efa",
           "#EF553B",
           "#00cc96",
           "#ab63fa",
           "#FFA15A",
           "#19d3f3",
           "#FF6692",
           "#B6E880",
           "#FF97FF",
           "#FECB52"
          ],
          "font": {
           "color": "#2a3f5f"
          },
          "geo": {
           "bgcolor": "white",
           "lakecolor": "white",
           "landcolor": "#E5ECF6",
           "showlakes": true,
           "showland": true,
           "subunitcolor": "white"
          },
          "hoverlabel": {
           "align": "left"
          },
          "hovermode": "closest",
          "mapbox": {
           "style": "light"
          },
          "paper_bgcolor": "white",
          "plot_bgcolor": "#E5ECF6",
          "polar": {
           "angularaxis": {
            "gridcolor": "white",
            "linecolor": "white",
            "ticks": ""
           },
           "bgcolor": "#E5ECF6",
           "radialaxis": {
            "gridcolor": "white",
            "linecolor": "white",
            "ticks": ""
           }
          },
          "scene": {
           "xaxis": {
            "backgroundcolor": "#E5ECF6",
            "gridcolor": "white",
            "gridwidth": 2,
            "linecolor": "white",
            "showbackground": true,
            "ticks": "",
            "zerolinecolor": "white"
           },
           "yaxis": {
            "backgroundcolor": "#E5ECF6",
            "gridcolor": "white",
            "gridwidth": 2,
            "linecolor": "white",
            "showbackground": true,
            "ticks": "",
            "zerolinecolor": "white"
           },
           "zaxis": {
            "backgroundcolor": "#E5ECF6",
            "gridcolor": "white",
            "gridwidth": 2,
            "linecolor": "white",
            "showbackground": true,
            "ticks": "",
            "zerolinecolor": "white"
           }
          },
          "shapedefaults": {
           "line": {
            "color": "#2a3f5f"
           }
          },
          "ternary": {
           "aaxis": {
            "gridcolor": "white",
            "linecolor": "white",
            "ticks": ""
           },
           "baxis": {
            "gridcolor": "white",
            "linecolor": "white",
            "ticks": ""
           },
           "bgcolor": "#E5ECF6",
           "caxis": {
            "gridcolor": "white",
            "linecolor": "white",
            "ticks": ""
           }
          },
          "title": {
           "x": 0.05
          },
          "xaxis": {
           "automargin": true,
           "gridcolor": "white",
           "linecolor": "white",
           "ticks": "",
           "title": {
            "standoff": 15
           },
           "zerolinecolor": "white",
           "zerolinewidth": 2
          },
          "yaxis": {
           "automargin": true,
           "gridcolor": "white",
           "linecolor": "white",
           "ticks": "",
           "title": {
            "standoff": 15
           },
           "zerolinecolor": "white",
           "zerolinewidth": 2
          }
         }
        },
        "title": {
         "text": "Product Promotion Distribution by Category"
        },
        "xaxis": {
         "anchor": "y",
         "domain": [
          0,
          1
         ],
         "tickangle": 45,
         "title": {
          "text": "Product Category"
         }
        },
        "yaxis": {
         "anchor": "x",
         "domain": [
          0,
          1
         ],
         "title": {
          "text": "Count"
         }
        }
       }
      }
     },
     "metadata": {},
     "output_type": "display_data"
    }
   ],
   "source": [
    "# Question 3: Which Categories Have the Highest Share of Products on Promotion?\n",
    "\n",
    "promo_df = df.groupby(['Hierarchy', 'Promotion']).size().reset_index(name='Count')\n",
    "fig = px.bar(\n",
    "    promo_df,\n",
    "    x='Hierarchy',\n",
    "    y='Count',\n",
    "    color='Promotion',\n",
    "    barmode='group',\n",
    "    title='Product Promotion Distribution by Category',\n",
    "    labels={'Hierarchy': 'Product Category'}\n",
    ")\n",
    "fig.update_layout(xaxis_tickangle=45)\n",
    "fig.show()"
   ]
  },
  {
   "cell_type": "markdown",
   "metadata": {
    "id": "8FC69r1E4G74"
   },
   "source": [
    "**Insight**\n",
    "\n",
    "- Promotions are extremely rare across the board.\n",
    "\n",
    "- Almost all categories have products not under promotion. Only a tiny handful of products are marked as promoted in **Food > Condiments & Staples** and **General > Other**\n",
    "\n",
    "- Either promotions are infrequent on the site, or they're not consistently labeled in the source HTML."
   ]
  },
  {
   "cell_type": "code",
   "execution_count": 15,
   "metadata": {
    "colab": {
     "base_uri": "https://localhost:8080/",
     "height": 542
    },
    "id": "rp3scs3QQjQt",
    "outputId": "a646cd81-d6d8-4d56-c5b1-a9158f951bed"
   },
   "outputs": [
    {
     "data": {
      "application/vnd.plotly.v1+json": {
       "config": {
        "plotlyServerURL": "https://plot.ly"
       },
       "data": [
        {
         "alignmentgroup": "True",
         "hovertemplate": "Availability=Unavailable<br>Product Category=%{x}<br>Count=%{y}<extra></extra>",
         "legendgroup": "Unavailable",
         "marker": {
          "color": "#636efa",
          "pattern": {
           "shape": ""
          }
         },
         "name": "Unavailable",
         "offsetgroup": "Unavailable",
         "orientation": "v",
         "showlegend": true,
         "textposition": "auto",
         "type": "bar",
         "x": [
          "Electronics > Appliances",
          "Food > Beverages",
          "Food > Condiments & Staples",
          "General > Other",
          "Household > Cookware",
          "Household > Kitchenware",
          "Textiles > Apparel & Linens"
         ],
         "xaxis": "x",
         "y": {
          "bdata": "AQ8COAYPAQ==",
          "dtype": "i1"
         },
         "yaxis": "y"
        },
        {
         "alignmentgroup": "True",
         "hovertemplate": "Availability=Available<br>Product Category=%{x}<br>Count=%{y}<extra></extra>",
         "legendgroup": "Available",
         "marker": {
          "color": "#EF553B",
          "pattern": {
           "shape": ""
          }
         },
         "name": "Available",
         "offsetgroup": "Available",
         "orientation": "v",
         "showlegend": true,
         "textposition": "auto",
         "type": "bar",
         "x": [
          "Food > Beverages",
          "General > Other",
          "Household > Cookware",
          "Household > Kitchenware",
          "Textiles > Apparel & Linens"
         ],
         "xaxis": "x",
         "y": {
          "bdata": "CRUBCAE=",
          "dtype": "i1"
         },
         "yaxis": "y"
        },
        {
         "alignmentgroup": "True",
         "hovertemplate": "Availability=Unknown<br>Product Category=%{x}<br>Count=%{y}<extra></extra>",
         "legendgroup": "Unknown",
         "marker": {
          "color": "#00cc96",
          "pattern": {
           "shape": ""
          }
         },
         "name": "Unknown",
         "offsetgroup": "Unknown",
         "orientation": "v",
         "showlegend": true,
         "textposition": "auto",
         "type": "bar",
         "x": [
          "Food > Beverages",
          "Food > Condiments & Staples",
          "Food > Dairy & Bakery",
          "General > Other",
          "Personal Care > Hygiene"
         ],
         "xaxis": "x",
         "y": {
          "bdata": "GQsnXAQ=",
          "dtype": "i1"
         },
         "yaxis": "y"
        }
       ],
       "layout": {
        "barmode": "group",
        "legend": {
         "title": {
          "text": "Availability"
         },
         "tracegroupgap": 0
        },
        "template": {
         "data": {
          "bar": [
           {
            "error_x": {
             "color": "#2a3f5f"
            },
            "error_y": {
             "color": "#2a3f5f"
            },
            "marker": {
             "line": {
              "color": "#E5ECF6",
              "width": 0.5
             },
             "pattern": {
              "fillmode": "overlay",
              "size": 10,
              "solidity": 0.2
             }
            },
            "type": "bar"
           }
          ],
          "barpolar": [
           {
            "marker": {
             "line": {
              "color": "#E5ECF6",
              "width": 0.5
             },
             "pattern": {
              "fillmode": "overlay",
              "size": 10,
              "solidity": 0.2
             }
            },
            "type": "barpolar"
           }
          ],
          "carpet": [
           {
            "aaxis": {
             "endlinecolor": "#2a3f5f",
             "gridcolor": "white",
             "linecolor": "white",
             "minorgridcolor": "white",
             "startlinecolor": "#2a3f5f"
            },
            "baxis": {
             "endlinecolor": "#2a3f5f",
             "gridcolor": "white",
             "linecolor": "white",
             "minorgridcolor": "white",
             "startlinecolor": "#2a3f5f"
            },
            "type": "carpet"
           }
          ],
          "choropleth": [
           {
            "colorbar": {
             "outlinewidth": 0,
             "ticks": ""
            },
            "type": "choropleth"
           }
          ],
          "contour": [
           {
            "colorbar": {
             "outlinewidth": 0,
             "ticks": ""
            },
            "colorscale": [
             [
              0,
              "#0d0887"
             ],
             [
              0.1111111111111111,
              "#46039f"
             ],
             [
              0.2222222222222222,
              "#7201a8"
             ],
             [
              0.3333333333333333,
              "#9c179e"
             ],
             [
              0.4444444444444444,
              "#bd3786"
             ],
             [
              0.5555555555555556,
              "#d8576b"
             ],
             [
              0.6666666666666666,
              "#ed7953"
             ],
             [
              0.7777777777777778,
              "#fb9f3a"
             ],
             [
              0.8888888888888888,
              "#fdca26"
             ],
             [
              1,
              "#f0f921"
             ]
            ],
            "type": "contour"
           }
          ],
          "contourcarpet": [
           {
            "colorbar": {
             "outlinewidth": 0,
             "ticks": ""
            },
            "type": "contourcarpet"
           }
          ],
          "heatmap": [
           {
            "colorbar": {
             "outlinewidth": 0,
             "ticks": ""
            },
            "colorscale": [
             [
              0,
              "#0d0887"
             ],
             [
              0.1111111111111111,
              "#46039f"
             ],
             [
              0.2222222222222222,
              "#7201a8"
             ],
             [
              0.3333333333333333,
              "#9c179e"
             ],
             [
              0.4444444444444444,
              "#bd3786"
             ],
             [
              0.5555555555555556,
              "#d8576b"
             ],
             [
              0.6666666666666666,
              "#ed7953"
             ],
             [
              0.7777777777777778,
              "#fb9f3a"
             ],
             [
              0.8888888888888888,
              "#fdca26"
             ],
             [
              1,
              "#f0f921"
             ]
            ],
            "type": "heatmap"
           }
          ],
          "histogram": [
           {
            "marker": {
             "pattern": {
              "fillmode": "overlay",
              "size": 10,
              "solidity": 0.2
             }
            },
            "type": "histogram"
           }
          ],
          "histogram2d": [
           {
            "colorbar": {
             "outlinewidth": 0,
             "ticks": ""
            },
            "colorscale": [
             [
              0,
              "#0d0887"
             ],
             [
              0.1111111111111111,
              "#46039f"
             ],
             [
              0.2222222222222222,
              "#7201a8"
             ],
             [
              0.3333333333333333,
              "#9c179e"
             ],
             [
              0.4444444444444444,
              "#bd3786"
             ],
             [
              0.5555555555555556,
              "#d8576b"
             ],
             [
              0.6666666666666666,
              "#ed7953"
             ],
             [
              0.7777777777777778,
              "#fb9f3a"
             ],
             [
              0.8888888888888888,
              "#fdca26"
             ],
             [
              1,
              "#f0f921"
             ]
            ],
            "type": "histogram2d"
           }
          ],
          "histogram2dcontour": [
           {
            "colorbar": {
             "outlinewidth": 0,
             "ticks": ""
            },
            "colorscale": [
             [
              0,
              "#0d0887"
             ],
             [
              0.1111111111111111,
              "#46039f"
             ],
             [
              0.2222222222222222,
              "#7201a8"
             ],
             [
              0.3333333333333333,
              "#9c179e"
             ],
             [
              0.4444444444444444,
              "#bd3786"
             ],
             [
              0.5555555555555556,
              "#d8576b"
             ],
             [
              0.6666666666666666,
              "#ed7953"
             ],
             [
              0.7777777777777778,
              "#fb9f3a"
             ],
             [
              0.8888888888888888,
              "#fdca26"
             ],
             [
              1,
              "#f0f921"
             ]
            ],
            "type": "histogram2dcontour"
           }
          ],
          "mesh3d": [
           {
            "colorbar": {
             "outlinewidth": 0,
             "ticks": ""
            },
            "type": "mesh3d"
           }
          ],
          "parcoords": [
           {
            "line": {
             "colorbar": {
              "outlinewidth": 0,
              "ticks": ""
             }
            },
            "type": "parcoords"
           }
          ],
          "pie": [
           {
            "automargin": true,
            "type": "pie"
           }
          ],
          "scatter": [
           {
            "fillpattern": {
             "fillmode": "overlay",
             "size": 10,
             "solidity": 0.2
            },
            "type": "scatter"
           }
          ],
          "scatter3d": [
           {
            "line": {
             "colorbar": {
              "outlinewidth": 0,
              "ticks": ""
             }
            },
            "marker": {
             "colorbar": {
              "outlinewidth": 0,
              "ticks": ""
             }
            },
            "type": "scatter3d"
           }
          ],
          "scattercarpet": [
           {
            "marker": {
             "colorbar": {
              "outlinewidth": 0,
              "ticks": ""
             }
            },
            "type": "scattercarpet"
           }
          ],
          "scattergeo": [
           {
            "marker": {
             "colorbar": {
              "outlinewidth": 0,
              "ticks": ""
             }
            },
            "type": "scattergeo"
           }
          ],
          "scattergl": [
           {
            "marker": {
             "colorbar": {
              "outlinewidth": 0,
              "ticks": ""
             }
            },
            "type": "scattergl"
           }
          ],
          "scattermap": [
           {
            "marker": {
             "colorbar": {
              "outlinewidth": 0,
              "ticks": ""
             }
            },
            "type": "scattermap"
           }
          ],
          "scattermapbox": [
           {
            "marker": {
             "colorbar": {
              "outlinewidth": 0,
              "ticks": ""
             }
            },
            "type": "scattermapbox"
           }
          ],
          "scatterpolar": [
           {
            "marker": {
             "colorbar": {
              "outlinewidth": 0,
              "ticks": ""
             }
            },
            "type": "scatterpolar"
           }
          ],
          "scatterpolargl": [
           {
            "marker": {
             "colorbar": {
              "outlinewidth": 0,
              "ticks": ""
             }
            },
            "type": "scatterpolargl"
           }
          ],
          "scatterternary": [
           {
            "marker": {
             "colorbar": {
              "outlinewidth": 0,
              "ticks": ""
             }
            },
            "type": "scatterternary"
           }
          ],
          "surface": [
           {
            "colorbar": {
             "outlinewidth": 0,
             "ticks": ""
            },
            "colorscale": [
             [
              0,
              "#0d0887"
             ],
             [
              0.1111111111111111,
              "#46039f"
             ],
             [
              0.2222222222222222,
              "#7201a8"
             ],
             [
              0.3333333333333333,
              "#9c179e"
             ],
             [
              0.4444444444444444,
              "#bd3786"
             ],
             [
              0.5555555555555556,
              "#d8576b"
             ],
             [
              0.6666666666666666,
              "#ed7953"
             ],
             [
              0.7777777777777778,
              "#fb9f3a"
             ],
             [
              0.8888888888888888,
              "#fdca26"
             ],
             [
              1,
              "#f0f921"
             ]
            ],
            "type": "surface"
           }
          ],
          "table": [
           {
            "cells": {
             "fill": {
              "color": "#EBF0F8"
             },
             "line": {
              "color": "white"
             }
            },
            "header": {
             "fill": {
              "color": "#C8D4E3"
             },
             "line": {
              "color": "white"
             }
            },
            "type": "table"
           }
          ]
         },
         "layout": {
          "annotationdefaults": {
           "arrowcolor": "#2a3f5f",
           "arrowhead": 0,
           "arrowwidth": 1
          },
          "autotypenumbers": "strict",
          "coloraxis": {
           "colorbar": {
            "outlinewidth": 0,
            "ticks": ""
           }
          },
          "colorscale": {
           "diverging": [
            [
             0,
             "#8e0152"
            ],
            [
             0.1,
             "#c51b7d"
            ],
            [
             0.2,
             "#de77ae"
            ],
            [
             0.3,
             "#f1b6da"
            ],
            [
             0.4,
             "#fde0ef"
            ],
            [
             0.5,
             "#f7f7f7"
            ],
            [
             0.6,
             "#e6f5d0"
            ],
            [
             0.7,
             "#b8e186"
            ],
            [
             0.8,
             "#7fbc41"
            ],
            [
             0.9,
             "#4d9221"
            ],
            [
             1,
             "#276419"
            ]
           ],
           "sequential": [
            [
             0,
             "#0d0887"
            ],
            [
             0.1111111111111111,
             "#46039f"
            ],
            [
             0.2222222222222222,
             "#7201a8"
            ],
            [
             0.3333333333333333,
             "#9c179e"
            ],
            [
             0.4444444444444444,
             "#bd3786"
            ],
            [
             0.5555555555555556,
             "#d8576b"
            ],
            [
             0.6666666666666666,
             "#ed7953"
            ],
            [
             0.7777777777777778,
             "#fb9f3a"
            ],
            [
             0.8888888888888888,
             "#fdca26"
            ],
            [
             1,
             "#f0f921"
            ]
           ],
           "sequentialminus": [
            [
             0,
             "#0d0887"
            ],
            [
             0.1111111111111111,
             "#46039f"
            ],
            [
             0.2222222222222222,
             "#7201a8"
            ],
            [
             0.3333333333333333,
             "#9c179e"
            ],
            [
             0.4444444444444444,
             "#bd3786"
            ],
            [
             0.5555555555555556,
             "#d8576b"
            ],
            [
             0.6666666666666666,
             "#ed7953"
            ],
            [
             0.7777777777777778,
             "#fb9f3a"
            ],
            [
             0.8888888888888888,
             "#fdca26"
            ],
            [
             1,
             "#f0f921"
            ]
           ]
          },
          "colorway": [
           "#636efa",
           "#EF553B",
           "#00cc96",
           "#ab63fa",
           "#FFA15A",
           "#19d3f3",
           "#FF6692",
           "#B6E880",
           "#FF97FF",
           "#FECB52"
          ],
          "font": {
           "color": "#2a3f5f"
          },
          "geo": {
           "bgcolor": "white",
           "lakecolor": "white",
           "landcolor": "#E5ECF6",
           "showlakes": true,
           "showland": true,
           "subunitcolor": "white"
          },
          "hoverlabel": {
           "align": "left"
          },
          "hovermode": "closest",
          "mapbox": {
           "style": "light"
          },
          "paper_bgcolor": "white",
          "plot_bgcolor": "#E5ECF6",
          "polar": {
           "angularaxis": {
            "gridcolor": "white",
            "linecolor": "white",
            "ticks": ""
           },
           "bgcolor": "#E5ECF6",
           "radialaxis": {
            "gridcolor": "white",
            "linecolor": "white",
            "ticks": ""
           }
          },
          "scene": {
           "xaxis": {
            "backgroundcolor": "#E5ECF6",
            "gridcolor": "white",
            "gridwidth": 2,
            "linecolor": "white",
            "showbackground": true,
            "ticks": "",
            "zerolinecolor": "white"
           },
           "yaxis": {
            "backgroundcolor": "#E5ECF6",
            "gridcolor": "white",
            "gridwidth": 2,
            "linecolor": "white",
            "showbackground": true,
            "ticks": "",
            "zerolinecolor": "white"
           },
           "zaxis": {
            "backgroundcolor": "#E5ECF6",
            "gridcolor": "white",
            "gridwidth": 2,
            "linecolor": "white",
            "showbackground": true,
            "ticks": "",
            "zerolinecolor": "white"
           }
          },
          "shapedefaults": {
           "line": {
            "color": "#2a3f5f"
           }
          },
          "ternary": {
           "aaxis": {
            "gridcolor": "white",
            "linecolor": "white",
            "ticks": ""
           },
           "baxis": {
            "gridcolor": "white",
            "linecolor": "white",
            "ticks": ""
           },
           "bgcolor": "#E5ECF6",
           "caxis": {
            "gridcolor": "white",
            "linecolor": "white",
            "ticks": ""
           }
          },
          "title": {
           "x": 0.05
          },
          "xaxis": {
           "automargin": true,
           "gridcolor": "white",
           "linecolor": "white",
           "ticks": "",
           "title": {
            "standoff": 15
           },
           "zerolinecolor": "white",
           "zerolinewidth": 2
          },
          "yaxis": {
           "automargin": true,
           "gridcolor": "white",
           "linecolor": "white",
           "ticks": "",
           "title": {
            "standoff": 15
           },
           "zerolinecolor": "white",
           "zerolinewidth": 2
          }
         }
        },
        "title": {
         "text": "Product Availability by Category"
        },
        "xaxis": {
         "anchor": "y",
         "domain": [
          0,
          1
         ],
         "tickangle": 45,
         "title": {
          "text": "Product Category"
         }
        },
        "yaxis": {
         "anchor": "x",
         "domain": [
          0,
          1
         ],
         "title": {
          "text": "Count"
         }
        }
       }
      }
     },
     "metadata": {},
     "output_type": "display_data"
    }
   ],
   "source": [
    "# Question 4: What is the Availability Status Across All Categories (Are there availability gaps in certain categories)?\n",
    "\n",
    "avail_df = df.groupby(['Hierarchy', 'Availability']).size().reset_index(name='Count')\n",
    "fig = px.bar(\n",
    "    avail_df,\n",
    "    x='Hierarchy',\n",
    "    y='Count',\n",
    "    color='Availability',\n",
    "    barmode='group',\n",
    "    title='Product Availability by Category',\n",
    "    labels={'Hierarchy': 'Product Category'}\n",
    ")\n",
    "fig.update_layout(xaxis_tickangle=45)\n",
    "fig.show()"
   ]
  },
  {
   "cell_type": "markdown",
   "metadata": {
    "id": "ri_IfMiy25j3"
   },
   "source": [
    "**Insight**\n",
    "\n",
    "- Most products have an “**Unknown**” availability status, especially in **Food > Dairy & Bakery**, **General > Other**, and **Personal Care > Hygiene**\n",
    "\n",
    "- High “**Unavailable**” counts in **Household > Cookware** (very prominent), **Toys & Games > Vehicles or Dolls**, and **Electronics > Appliances**\n",
    "\n",
    "- “**Available**” items are relatively low overall, with a few noticeable in **Household > Cookware** and **Food > Beverages**.\n",
    "\n",
    "Many items scraped lacked availability labels may be perhaps due to inconsistent HTML structure.\n",
    "\n",
    "Categories like **Household > Cookware** seem popular or stocked regularly, as it shows both available and unavailable entries, hinting at turnover."
   ]
  }
 ],
 "metadata": {
  "colab": {
   "provenance": []
  },
  "kernelspec": {
   "display_name": "Python [conda env:base] *",
   "language": "python",
   "name": "conda-base-py"
  },
  "language_info": {
   "codemirror_mode": {
    "name": "ipython",
    "version": 3
   },
   "file_extension": ".py",
   "mimetype": "text/x-python",
   "name": "python",
   "nbconvert_exporter": "python",
   "pygments_lexer": "ipython3",
   "version": "3.12.3"
  }
 },
 "nbformat": 4,
 "nbformat_minor": 4
}
