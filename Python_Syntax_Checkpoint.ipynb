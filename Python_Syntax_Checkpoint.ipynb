{
 "cells": [
  {
   "cell_type": "markdown",
   "id": "376a4bc4-c71c-4a2b-a39a-10d59dbceeb6",
   "metadata": {},
   "source": [
    "## Python Pizza"
   ]
  },
  {
   "cell_type": "markdown",
   "id": "dfae7f26-1b3d-4d51-a291-10abb5c128e9",
   "metadata": {},
   "source": [
    "Congratulations, you've got a job at Python Pizza. Your first job is to build an automatic pizza order program. Based on a customer's order, work out their final bill.\n",
    "\n",
    " ``` Small Pizza: $15 ``` \n",
    "\n",
    "``` Medium Pizza: $20 ``` \n",
    "\n",
    "``` Large Pizza: $25 ``` \n",
    "\n",
    "If they want to add pepperoni :\n",
    "\n",
    "``` Pepperoni for Small Pizza: +$2 ``` \n",
    "\n",
    "``` Pepperoni for Medium or Large Pizza: +$3 ```\n",
    "\n",
    "If they want cheese :\n",
    "\n",
    " ``` Extra cheese for any size pizza: + $1 ```"
   ]
  },
  {
   "cell_type": "code",
   "execution_count": 2,
   "id": "b5a1db1e-5924-4e1e-9f93-096416941b8f",
   "metadata": {},
   "outputs": [
    {
     "name": "stdout",
     "output_type": "stream",
     "text": [
      "Welcome to Python Pizza Deliveries!\n"
     ]
    },
    {
     "name": "stdin",
     "output_type": "stream",
     "text": [
      "What size pizza do you want? Small (S), Medium (M), or Large (L):  M\n",
      "Do you want pepperoni added? Yes (Y) or No (N):  Y\n",
      "Do you want extra cheese added? Yes (Y) or No (N):  N\n"
     ]
    },
    {
     "name": "stdout",
     "output_type": "stream",
     "text": [
      "Your final bill is: $23\n"
     ]
    }
   ],
   "source": [
    "print(\"Welcome to Python Pizza Deliveries!\")     #Welcome message\n",
    "\n",
    "try:\n",
    "    #To get user input\n",
    "    size = input(\"What size pizza do you want? Small (S), Medium (M), or Large (L): \").strip().upper()\n",
    "    \n",
    "    if size not in [\"S\", \"M\", \"L\"]:\n",
    "        raise ValueError(\"Invalid size choice. Please enter S, M, or L.\")\n",
    "    \n",
    "    add_pepperoni = input(\"Do you want pepperoni added? Yes (Y) or No (N): \").strip().upper()\n",
    "    \n",
    "    if add_pepperoni not in [\"Y\", \"N\"]:\n",
    "        raise ValueError(\"Invalid input for pepperoni. Please enter Y or N.\")\n",
    "    \n",
    "    extra_cheese = input(\"Do you want extra cheese added? Yes (Y) or No (N): \").strip().upper()\n",
    "    \n",
    "    if extra_cheese not in [\"Y\", \"N\"]:\n",
    "        raise ValueError(\"Invalid input for extra cheese. Please enter Y or N.\")\n",
    "\n",
    "    #Setting base pizza prices\n",
    "    if size == \"S\":\n",
    "        bill = 15\n",
    "    elif size == \"M\":\n",
    "        bill = 20\n",
    "    elif size == \"L\":\n",
    "        bill = 25\n",
    "\n",
    "    #Extra costs\n",
    "    if add_pepperoni == \"Y\":\n",
    "        bill += 2 if size == \"S\" else 3\n",
    "\n",
    "    if extra_cheese == \"Y\":\n",
    "        bill += 1\n",
    "\n",
    "    print(f\"Your final bill is: ${bill}\")     #Final output\n",
    "\n",
    "except ValueError as e:\n",
    "    print(f\"Error: {e}\")\n",
    "    print(\"Please restart the program and enter valid choices.\")"
   ]
  }
 ],
 "metadata": {
  "kernelspec": {
   "display_name": "Python [conda env:base] *",
   "language": "python",
   "name": "conda-base-py"
  },
  "language_info": {
   "codemirror_mode": {
    "name": "ipython",
    "version": 3
   },
   "file_extension": ".py",
   "mimetype": "text/x-python",
   "name": "python",
   "nbconvert_exporter": "python",
   "pygments_lexer": "ipython3",
   "version": "3.12.3"
  }
 },
 "nbformat": 4,
 "nbformat_minor": 5
}
