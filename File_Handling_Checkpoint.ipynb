{
  "nbformat": 4,
  "nbformat_minor": 0,
  "metadata": {
    "colab": {
      "provenance": []
    },
    "kernelspec": {
      "name": "python3",
      "display_name": "Python 3"
    },
    "language_info": {
      "name": "python"
    }
  },
  "cells": [
    {
      "cell_type": "code",
      "execution_count": null,
      "metadata": {
        "colab": {
          "base_uri": "https://localhost:8080/"
        },
        "id": "DUkNs5Xf7vbY",
        "outputId": "56a2f945-e8cf-423d-8666-c706f553669e"
      },
      "outputs": [
        {
          "output_type": "stream",
          "name": "stdout",
          "text": [
            "Loan Amount Statistical Analysis.\n",
            "--------------------------------\n",
            "\n",
            "Mean Loan Amount: 141.13\n",
            "Median Loan Amount: 125.00\n",
            "Standard Deviation of Loan Amount: 88.33\n"
          ]
        }
      ],
      "source": [
        "import numpy as np\n",
        "\n",
        "# Defining the file path after dataset has been uploaded to Colab\n",
        "file_path = 'Loan_prediction_dataset.csv'\n",
        "\n",
        "# Opening the file and reading data\n",
        "file = open(file_path, \"r\")\n",
        "data = np.genfromtxt(file, delimiter=',', skip_header=1, dtype=int, usecols=8)\n",
        "    # \"usecols=8\" specifies column index 8 which corresponds to \"Loan_amount\"\n",
        "\n",
        "# Performing statistical analysis\n",
        "mean_loan_amount = np.mean(data)\n",
        "median_loan_amount = np.median(data)\n",
        "std_loan_amount = np.std(data)\n",
        "\n",
        "# Printing results\n",
        "print(\"Loan Amount Statistical Analysis.\")\n",
        "print(\"--------------------------------\")\n",
        "print(f\"\\nMean Loan Amount: {mean_loan_amount:.2f}\")\n",
        "print(f\"Median Loan Amount: {median_loan_amount:.2f}\")\n",
        "print(f\"Standard Deviation of Loan Amount: {std_loan_amount:.2f}\")\n",
        "\n",
        "# Closing the file\n",
        "file.close()"
      ]
    },
    {
      "cell_type": "code",
      "source": [],
      "metadata": {
        "id": "CVkwoeBA_TBK"
      },
      "execution_count": null,
      "outputs": []
    }
  ]
}