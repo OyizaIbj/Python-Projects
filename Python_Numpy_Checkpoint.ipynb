{
  "nbformat": 4,
  "nbformat_minor": 0,
  "metadata": {
    "colab": {
      "provenance": []
    },
    "kernelspec": {
      "name": "python3",
      "display_name": "Python 3"
    },
    "language_info": {
      "name": "python"
    }
  },
  "cells": [
    {
      "cell_type": "code",
      "execution_count": null,
      "metadata": {
        "colab": {
          "base_uri": "https://localhost:8080/"
        },
        "id": "77OV49hTDdW7",
        "outputId": "b7373a32-ce15-46ea-9e1f-67202aa0f986"
      },
      "outputs": [
        {
          "output_type": "stream",
          "name": "stdout",
          "text": [
            "Student Grades Analysis\n",
            "------------------------\n",
            "Mean Grade: 87.50\n",
            "Median Grade: 88.5\n",
            "Standard Deviation: 6.59\n",
            "Maximum Grade: 98\n",
            "Minimum Grade: 75\n",
            "Sorted Grades: [75 80 83 85 88 89 90 92 95 98]\n",
            "Index of Highest Grade: 7\n",
            "Students Scoring Above 90: 3\n",
            "Percentage of Students Above 90: 30.00%\n",
            "Percentage of Students Below 75: 0.00%\n",
            "High Performers (Above 90): [92 95 98]\n",
            "Passing Grades (Above 75): [85 90 88 92 95 80 98 89 83]\n"
          ]
        }
      ],
      "source": [
        "import numpy as np\n",
        "\n",
        "# Creating a NumPy array called \"grades\"\n",
        "grades = np.array([85, 90, 88, 92, 95, 80, 75, 98, 89, 83])\n",
        "\n",
        "# Calculating statistical measures\n",
        "mean_grade = np.mean(grades)\n",
        "median_grade = np.median(grades)\n",
        "std_deviation = np.std(grades)\n",
        "\n",
        "# Finding max and min grades\n",
        "max_grade = np.max(grades)\n",
        "min_grade = np.min(grades)\n",
        "\n",
        "# Sorting grades in ascending order\n",
        "sorted_grades = np.sort(grades)\n",
        "\n",
        "# Finding the index of the highest grade\n",
        "max_index = np.argmax(grades)\n",
        "\n",
        "# Counting students who scored above 90\n",
        "above_90_count = np.sum(grades > 90)\n",
        "\n",
        "# Percentage of students who scored below 75\n",
        "above_90_percentage = np.mean(grades > 90) * 100\n",
        "\n",
        "# Percentage of students who scored below 75\n",
        "below_75_percentage = np.mean(grades < 75) * 100\n",
        "\n",
        "# Extracting high-performing students (grades above 90)\n",
        "high_performers = grades[grades > 90]\n",
        "\n",
        "# Extracting passing grades (above 75)\n",
        "passing_grades = grades[grades > 75]\n",
        "\n",
        "# Results\n",
        "print(\"Student Grades Analysis\")\n",
        "print(\"------------------------\")\n",
        "print(f\"Mean Grade: {mean_grade:.2f}\")\n",
        "print(f\"Median Grade: {median_grade}\")\n",
        "print(f\"Standard Deviation: {std_deviation:.2f}\")\n",
        "print(f\"Maximum Grade: {max_grade}\")\n",
        "print(f\"Minimum Grade: {min_grade}\")\n",
        "print(f\"Sorted Grades: {sorted_grades}\")\n",
        "print(f\"Index of Highest Grade: {max_index}\")\n",
        "print(f\"Students Scoring Above 90: {above_90_count}\")\n",
        "print(f\"Percentage of Students Above 90: {above_90_percentage:.2f}%\")\n",
        "print(f\"Percentage of Students Below 75: {below_75_percentage:.2f}%\")\n",
        "print(f\"High Performers (Above 90): {high_performers}\")\n",
        "print(f\"Passing Grades (Above 75): {passing_grades}\")"
      ]
    }
  ]
}